{
  "nbformat": 4,
  "nbformat_minor": 0,
  "metadata": {
    "kernelspec": {
      "display_name": "Python 3",
      "language": "python",
      "name": "python3"
    },
    "language_info": {
      "codemirror_mode": {
        "name": "ipython",
        "version": 3
      },
      "file_extension": ".py",
      "mimetype": "text/x-python",
      "name": "python",
      "nbconvert_exporter": "python",
      "pygments_lexer": "ipython3",
      "version": "3.8.5"
    },
    "colab": {
      "name": "Volcano Eruption Analysis.ipynb",
      "provenance": [],
      "include_colab_link": true
    },
    "accelerator": "GPU"
  },
  "cells": [
    {
      "cell_type": "markdown",
      "metadata": {
        "id": "view-in-github",
        "colab_type": "text"
      },
      "source": [
        "<a href=\"https://colab.research.google.com/github/FunmiSomoye/Volcanic-Eruptions-Analysis/blob/main/Volcano_Eruption_Analysis.ipynb\" target=\"_parent\"><img src=\"https://colab.research.google.com/assets/colab-badge.svg\" alt=\"Open In Colab\"/></a>"
      ]
    },
    {
      "cell_type": "markdown",
      "metadata": {
        "id": "60aY48XoC3lr"
      },
      "source": [
        "#Start"
      ]
    },
    {
      "cell_type": "markdown",
      "metadata": {
        "id": "QQH8qLd_9zgS"
      },
      "source": [
        "**Hypothesis**\n",
        "\n",
        "1. The largest volcanic activities are along a subduction zone\n",
        "2. The Subduction Zone has the highest number of erupted volcanoes\n",
        "3. There are more reported volcanoes in recent years than in the past (not just because of increased volcanic activity, but also because of improved technology and communication)"
      ]
    },
    {
      "cell_type": "markdown",
      "metadata": {
        "id": "X8YKMURgrWPo"
      },
      "source": [
        "**Major Assumptions**\n",
        "\n",
        "For dates, Google search has confirmed some of the recent dates as seen in the dataframe. The Github repository where the data was sourced from says this is the updated data for 2020. Also, the negative epoch dates are for years before 1960. I would leave the dates as is, but as integer, to allow for thos dates earlier than the set epoch reference date. \n",
        "\n",
        "The information from Smithsonian Institute is that these are data from over 10,000 years ago.\n",
        "\n",
        "Voclanoes without end_year dates are still active."
      ]
    },
    {
      "cell_type": "markdown",
      "metadata": {
        "id": "aESAC0rjFkzn"
      },
      "source": [
        "###Import and Set Dependencies"
      ]
    },
    {
      "cell_type": "code",
      "metadata": {
        "id": "tx0rT8I3GMxS"
      },
      "source": [
        "import pandas as pd\n",
        "import numpy as np\n",
        "import datetime as dt\n",
        "import seaborn as sns\n",
        "import matplotlib.pyplot as plt"
      ],
      "execution_count": null,
      "outputs": []
    },
    {
      "cell_type": "markdown",
      "metadata": {
        "id": "0mqqHuJoDH-d"
      },
      "source": [
        "#####***Import Data***"
      ]
    },
    {
      "cell_type": "code",
      "metadata": {
        "id": "pE31iFPSDKej"
      },
      "source": [
        "volcano = pd.read_csv('https://raw.githubusercontent.com/rfordatascience/tidytuesday/master/data/2020/2020-05-12/volcano.csv')\n",
        "eruptions = pd.read_csv('https://raw.githubusercontent.com/rfordatascience/tidytuesday/master/data/2020/2020-05-12/eruptions.csv')\n",
        "events = pd.read_csv('https://raw.githubusercontent.com/rfordatascience/tidytuesday/master/data/2020/2020-05-12/events.csv')"
      ],
      "execution_count": null,
      "outputs": []
    },
    {
      "cell_type": "markdown",
      "metadata": {
        "id": "hLf4JpYaC6Mz"
      },
      "source": [
        "###Basic Data Exploration"
      ]
    },
    {
      "cell_type": "markdown",
      "metadata": {
        "id": "TVHRNbgKgMI7"
      },
      "source": [
        "#####***volcano***"
      ]
    },
    {
      "cell_type": "code",
      "metadata": {
        "id": "VXdyKa4Qd9Wo",
        "colab": {
          "base_uri": "https://localhost:8080/",
          "height": 872
        },
        "outputId": "4ebf59ec-07ab-40ae-e717-d2265f78c58c"
      },
      "source": [
        "volcano.head().T"
      ],
      "execution_count": null,
      "outputs": [
        {
          "output_type": "execute_result",
          "data": {
            "text/html": [
              "<div>\n",
              "<style scoped>\n",
              "    .dataframe tbody tr th:only-of-type {\n",
              "        vertical-align: middle;\n",
              "    }\n",
              "\n",
              "    .dataframe tbody tr th {\n",
              "        vertical-align: top;\n",
              "    }\n",
              "\n",
              "    .dataframe thead th {\n",
              "        text-align: right;\n",
              "    }\n",
              "</style>\n",
              "<table border=\"1\" class=\"dataframe\">\n",
              "  <thead>\n",
              "    <tr style=\"text-align: right;\">\n",
              "      <th></th>\n",
              "      <th>0</th>\n",
              "      <th>1</th>\n",
              "      <th>2</th>\n",
              "      <th>3</th>\n",
              "      <th>4</th>\n",
              "    </tr>\n",
              "  </thead>\n",
              "  <tbody>\n",
              "    <tr>\n",
              "      <th>volcano_number</th>\n",
              "      <td>283001</td>\n",
              "      <td>355096</td>\n",
              "      <td>342080</td>\n",
              "      <td>213004</td>\n",
              "      <td>321040</td>\n",
              "    </tr>\n",
              "    <tr>\n",
              "      <th>volcano_name</th>\n",
              "      <td>Abu</td>\n",
              "      <td>Acamarachi</td>\n",
              "      <td>Acatenango</td>\n",
              "      <td>Acigol-Nevsehir</td>\n",
              "      <td>Adams</td>\n",
              "    </tr>\n",
              "    <tr>\n",
              "      <th>primary_volcano_type</th>\n",
              "      <td>Shield(s)</td>\n",
              "      <td>Stratovolcano</td>\n",
              "      <td>Stratovolcano(es)</td>\n",
              "      <td>Caldera</td>\n",
              "      <td>Stratovolcano</td>\n",
              "    </tr>\n",
              "    <tr>\n",
              "      <th>last_eruption_year</th>\n",
              "      <td>-6850</td>\n",
              "      <td>Unknown</td>\n",
              "      <td>1972</td>\n",
              "      <td>-2080</td>\n",
              "      <td>950</td>\n",
              "    </tr>\n",
              "    <tr>\n",
              "      <th>country</th>\n",
              "      <td>Japan</td>\n",
              "      <td>Chile</td>\n",
              "      <td>Guatemala</td>\n",
              "      <td>Turkey</td>\n",
              "      <td>United States</td>\n",
              "    </tr>\n",
              "    <tr>\n",
              "      <th>region</th>\n",
              "      <td>Japan, Taiwan, Marianas</td>\n",
              "      <td>South America</td>\n",
              "      <td>México and Central America</td>\n",
              "      <td>Mediterranean and Western Asia</td>\n",
              "      <td>Canada and Western USA</td>\n",
              "    </tr>\n",
              "    <tr>\n",
              "      <th>subregion</th>\n",
              "      <td>Honshu</td>\n",
              "      <td>Northern Chile, Bolivia and Argentina</td>\n",
              "      <td>Guatemala</td>\n",
              "      <td>Turkey</td>\n",
              "      <td>USA (Washington)</td>\n",
              "    </tr>\n",
              "    <tr>\n",
              "      <th>latitude</th>\n",
              "      <td>34.5</td>\n",
              "      <td>-23.292</td>\n",
              "      <td>14.501</td>\n",
              "      <td>38.537</td>\n",
              "      <td>46.206</td>\n",
              "    </tr>\n",
              "    <tr>\n",
              "      <th>longitude</th>\n",
              "      <td>131.6</td>\n",
              "      <td>-67.618</td>\n",
              "      <td>-90.876</td>\n",
              "      <td>34.621</td>\n",
              "      <td>-121.49</td>\n",
              "    </tr>\n",
              "    <tr>\n",
              "      <th>elevation</th>\n",
              "      <td>641</td>\n",
              "      <td>6023</td>\n",
              "      <td>3976</td>\n",
              "      <td>1683</td>\n",
              "      <td>3742</td>\n",
              "    </tr>\n",
              "    <tr>\n",
              "      <th>tectonic_settings</th>\n",
              "      <td>Subduction zone / Continental crust (&gt;25 km)</td>\n",
              "      <td>Subduction zone / Continental crust (&gt;25 km)</td>\n",
              "      <td>Subduction zone / Continental crust (&gt;25 km)</td>\n",
              "      <td>Intraplate / Continental crust (&gt;25 km)</td>\n",
              "      <td>Subduction zone / Continental crust (&gt;25 km)</td>\n",
              "    </tr>\n",
              "    <tr>\n",
              "      <th>evidence_category</th>\n",
              "      <td>Eruption Dated</td>\n",
              "      <td>Evidence Credible</td>\n",
              "      <td>Eruption Observed</td>\n",
              "      <td>Eruption Dated</td>\n",
              "      <td>Eruption Dated</td>\n",
              "    </tr>\n",
              "    <tr>\n",
              "      <th>major_rock_1</th>\n",
              "      <td>Andesite / Basaltic Andesite</td>\n",
              "      <td>Dacite</td>\n",
              "      <td>Andesite / Basaltic Andesite</td>\n",
              "      <td>Rhyolite</td>\n",
              "      <td>Andesite / Basaltic Andesite</td>\n",
              "    </tr>\n",
              "    <tr>\n",
              "      <th>major_rock_2</th>\n",
              "      <td>Basalt / Picro-Basalt</td>\n",
              "      <td>Andesite / Basaltic Andesite</td>\n",
              "      <td>Dacite</td>\n",
              "      <td>Dacite</td>\n",
              "      <td>Basalt / Picro-Basalt</td>\n",
              "    </tr>\n",
              "    <tr>\n",
              "      <th>major_rock_3</th>\n",
              "      <td>Dacite</td>\n",
              "      <td></td>\n",
              "      <td></td>\n",
              "      <td>Basalt / Picro-Basalt</td>\n",
              "      <td></td>\n",
              "    </tr>\n",
              "    <tr>\n",
              "      <th>major_rock_4</th>\n",
              "      <td></td>\n",
              "      <td></td>\n",
              "      <td></td>\n",
              "      <td>Andesite / Basaltic Andesite</td>\n",
              "      <td></td>\n",
              "    </tr>\n",
              "    <tr>\n",
              "      <th>major_rock_5</th>\n",
              "      <td></td>\n",
              "      <td></td>\n",
              "      <td></td>\n",
              "      <td></td>\n",
              "      <td></td>\n",
              "    </tr>\n",
              "    <tr>\n",
              "      <th>minor_rock_1</th>\n",
              "      <td></td>\n",
              "      <td></td>\n",
              "      <td>Basalt / Picro-Basalt</td>\n",
              "      <td></td>\n",
              "      <td>Dacite</td>\n",
              "    </tr>\n",
              "    <tr>\n",
              "      <th>minor_rock_2</th>\n",
              "      <td></td>\n",
              "      <td></td>\n",
              "      <td></td>\n",
              "      <td></td>\n",
              "      <td></td>\n",
              "    </tr>\n",
              "    <tr>\n",
              "      <th>minor_rock_3</th>\n",
              "      <td></td>\n",
              "      <td></td>\n",
              "      <td></td>\n",
              "      <td></td>\n",
              "      <td></td>\n",
              "    </tr>\n",
              "    <tr>\n",
              "      <th>minor_rock_4</th>\n",
              "      <td></td>\n",
              "      <td></td>\n",
              "      <td></td>\n",
              "      <td></td>\n",
              "      <td></td>\n",
              "    </tr>\n",
              "    <tr>\n",
              "      <th>minor_rock_5</th>\n",
              "      <td></td>\n",
              "      <td></td>\n",
              "      <td></td>\n",
              "      <td></td>\n",
              "      <td></td>\n",
              "    </tr>\n",
              "    <tr>\n",
              "      <th>population_within_5_km</th>\n",
              "      <td>3597</td>\n",
              "      <td>0</td>\n",
              "      <td>4329</td>\n",
              "      <td>127863</td>\n",
              "      <td>0</td>\n",
              "    </tr>\n",
              "    <tr>\n",
              "      <th>population_within_10_km</th>\n",
              "      <td>9594</td>\n",
              "      <td>7</td>\n",
              "      <td>60730</td>\n",
              "      <td>127863</td>\n",
              "      <td>70</td>\n",
              "    </tr>\n",
              "    <tr>\n",
              "      <th>population_within_30_km</th>\n",
              "      <td>117805</td>\n",
              "      <td>294</td>\n",
              "      <td>1042836</td>\n",
              "      <td>218469</td>\n",
              "      <td>4019</td>\n",
              "    </tr>\n",
              "    <tr>\n",
              "      <th>population_within_100_km</th>\n",
              "      <td>4071152</td>\n",
              "      <td>9092</td>\n",
              "      <td>7634778</td>\n",
              "      <td>2253483</td>\n",
              "      <td>393303</td>\n",
              "    </tr>\n",
              "  </tbody>\n",
              "</table>\n",
              "</div>"
            ],
            "text/plain": [
              "                                                                     0  ...                                             4\n",
              "volcano_number                                                  283001  ...                                        321040\n",
              "volcano_name                                                       Abu  ...                                         Adams\n",
              "primary_volcano_type                                         Shield(s)  ...                                 Stratovolcano\n",
              "last_eruption_year                                               -6850  ...                                           950\n",
              "country                                                          Japan  ...                                 United States\n",
              "region                                         Japan, Taiwan, Marianas  ...                        Canada and Western USA\n",
              "subregion                                                       Honshu  ...                              USA (Washington)\n",
              "latitude                                                          34.5  ...                                        46.206\n",
              "longitude                                                        131.6  ...                                       -121.49\n",
              "elevation                                                          641  ...                                          3742\n",
              "tectonic_settings         Subduction zone / Continental crust (>25 km)  ...  Subduction zone / Continental crust (>25 km)\n",
              "evidence_category                                       Eruption Dated  ...                                Eruption Dated\n",
              "major_rock_1                              Andesite / Basaltic Andesite  ...                  Andesite / Basaltic Andesite\n",
              "major_rock_2                                     Basalt / Picro-Basalt  ...                         Basalt / Picro-Basalt\n",
              "major_rock_3                                                    Dacite  ...                                              \n",
              "major_rock_4                                                            ...                                              \n",
              "major_rock_5                                                            ...                                              \n",
              "minor_rock_1                                                            ...                                        Dacite\n",
              "minor_rock_2                                                            ...                                              \n",
              "minor_rock_3                                                            ...                                              \n",
              "minor_rock_4                                                            ...                                              \n",
              "minor_rock_5                                                            ...                                              \n",
              "population_within_5_km                                            3597  ...                                             0\n",
              "population_within_10_km                                           9594  ...                                            70\n",
              "population_within_30_km                                         117805  ...                                          4019\n",
              "population_within_100_km                                       4071152  ...                                        393303\n",
              "\n",
              "[26 rows x 5 columns]"
            ]
          },
          "metadata": {
            "tags": []
          },
          "execution_count": 3
        }
      ]
    },
    {
      "cell_type": "code",
      "metadata": {
        "colab": {
          "base_uri": "https://localhost:8080/"
        },
        "id": "R08gBjxZMCY0",
        "outputId": "f1e1118e-df28-4c57-85ac-37d5e0a586b4"
      },
      "source": [
        "volcano.shape"
      ],
      "execution_count": null,
      "outputs": [
        {
          "output_type": "execute_result",
          "data": {
            "text/plain": [
              "(958, 26)"
            ]
          },
          "metadata": {
            "tags": []
          },
          "execution_count": 4
        }
      ]
    },
    {
      "cell_type": "markdown",
      "metadata": {
        "id": "UOzfAMTxh7P0"
      },
      "source": [
        "There are 958 rows and 26 columns <br/>\n",
        "What is a major rock in one volcano is a minor rock for another. <br/>\n",
        "Some volcanoes had no one living close to it."
      ]
    },
    {
      "cell_type": "code",
      "metadata": {
        "id": "T2FYx-KzgOlY",
        "colab": {
          "base_uri": "https://localhost:8080/"
        },
        "outputId": "faef0087-0fa7-4390-8322-b75c481c0fd2"
      },
      "source": [
        "volcano.info()"
      ],
      "execution_count": null,
      "outputs": [
        {
          "output_type": "stream",
          "text": [
            "<class 'pandas.core.frame.DataFrame'>\n",
            "RangeIndex: 958 entries, 0 to 957\n",
            "Data columns (total 26 columns):\n",
            " #   Column                    Non-Null Count  Dtype  \n",
            "---  ------                    --------------  -----  \n",
            " 0   volcano_number            958 non-null    int64  \n",
            " 1   volcano_name              958 non-null    object \n",
            " 2   primary_volcano_type      958 non-null    object \n",
            " 3   last_eruption_year        958 non-null    object \n",
            " 4   country                   958 non-null    object \n",
            " 5   region                    958 non-null    object \n",
            " 6   subregion                 958 non-null    object \n",
            " 7   latitude                  958 non-null    float64\n",
            " 8   longitude                 958 non-null    float64\n",
            " 9   elevation                 958 non-null    int64  \n",
            " 10  tectonic_settings         958 non-null    object \n",
            " 11  evidence_category         958 non-null    object \n",
            " 12  major_rock_1              958 non-null    object \n",
            " 13  major_rock_2              958 non-null    object \n",
            " 14  major_rock_3              958 non-null    object \n",
            " 15  major_rock_4              958 non-null    object \n",
            " 16  major_rock_5              958 non-null    object \n",
            " 17  minor_rock_1              958 non-null    object \n",
            " 18  minor_rock_2              958 non-null    object \n",
            " 19  minor_rock_3              958 non-null    object \n",
            " 20  minor_rock_4              958 non-null    object \n",
            " 21  minor_rock_5              958 non-null    object \n",
            " 22  population_within_5_km    958 non-null    int64  \n",
            " 23  population_within_10_km   958 non-null    int64  \n",
            " 24  population_within_30_km   958 non-null    int64  \n",
            " 25  population_within_100_km  958 non-null    int64  \n",
            "dtypes: float64(2), int64(6), object(18)\n",
            "memory usage: 194.7+ KB\n"
          ],
          "name": "stdout"
        }
      ]
    },
    {
      "cell_type": "markdown",
      "metadata": {
        "id": "VSGalNpZiCtL"
      },
      "source": [
        "There are no missing values in the volcano set."
      ]
    },
    {
      "cell_type": "code",
      "metadata": {
        "id": "rivkZaYXgTMr",
        "colab": {
          "base_uri": "https://localhost:8080/"
        },
        "outputId": "810cff17-891d-4043-b70c-0a7d9e57aad8"
      },
      "source": [
        "#see number of unique values in each column\n",
        "[(col, volcano[col].nunique()) for col in volcano]"
      ],
      "execution_count": null,
      "outputs": [
        {
          "output_type": "execute_result",
          "data": {
            "text/plain": [
              "[('volcano_number', 958),\n",
              " ('volcano_name', 954),\n",
              " ('primary_volcano_type', 26),\n",
              " ('last_eruption_year', 342),\n",
              " ('country', 89),\n",
              " ('region', 19),\n",
              " ('subregion', 98),\n",
              " ('latitude', 927),\n",
              " ('longitude', 941),\n",
              " ('elevation', 818),\n",
              " ('tectonic_settings', 11),\n",
              " ('evidence_category', 5),\n",
              " ('major_rock_1', 10),\n",
              " ('major_rock_2', 11),\n",
              " ('major_rock_3', 11),\n",
              " ('major_rock_4', 11),\n",
              " ('major_rock_5', 11),\n",
              " ('minor_rock_1', 11),\n",
              " ('minor_rock_2', 11),\n",
              " ('minor_rock_3', 9),\n",
              " ('minor_rock_4', 3),\n",
              " ('minor_rock_5', 1),\n",
              " ('population_within_5_km', 619),\n",
              " ('population_within_10_km', 715),\n",
              " ('population_within_30_km', 816),\n",
              " ('population_within_100_km', 885)]"
            ]
          },
          "metadata": {
            "tags": []
          },
          "execution_count": 57
        }
      ]
    },
    {
      "cell_type": "markdown",
      "metadata": {
        "id": "atxSJr3XiP1G"
      },
      "source": [
        "There are 89 countries (there is a total of 195 in the world), <br/>\n",
        "19 regions, <br/>\n",
        "98 subregions, <br/>\n",
        "954 unique volcano names, <br/>\n",
        "26 primary volcano types, <br/>\n",
        "11 tectonic settings, and <br/>\n",
        "5 evidence categories in this dataset. "
      ]
    },
    {
      "cell_type": "code",
      "metadata": {
        "id": "wwGsuSP4km9X",
        "colab": {
          "base_uri": "https://localhost:8080/",
          "height": 594
        },
        "outputId": "2b74bd99-c1cc-4517-b950-c451f7b9e7bf"
      },
      "source": [
        "#visualise the evidence category\n",
        "fig = plt.figure(figsize=(8, 4)) \n",
        "chart=sns.countplot(data=volcano, x='evidence_category')\n",
        "chart.set_xticklabels(chart.get_xticklabels(), rotation=90)\n",
        "\n",
        "plt.title('Evidence Category Frequencies', size = 12)"
      ],
      "execution_count": null,
      "outputs": [
        {
          "output_type": "execute_result",
          "data": {
            "text/plain": [
              "[Text(0, 0, 'Eruption Dated'),\n",
              " Text(0, 0, 'Evidence Credible'),\n",
              " Text(0, 0, 'Eruption Observed'),\n",
              " Text(0, 0, 'Evidence Uncertain'),\n",
              " Text(0, 0, 'Unrest / Holocene')]"
            ]
          },
          "metadata": {
            "tags": []
          },
          "execution_count": 96
        },
        {
          "output_type": "display_data",
          "data": {
            "image/png": "[encoded data removed]",
            "text/plain": [
              "<Figure size 800x400 with 1 Axes>"
            ]
          },
          "metadata": {
            "tags": []
          }
        }
      ]
    },
    {
      "cell_type": "markdown",
      "metadata": {
        "id": "EydB6JT9rmlF"
      },
      "source": [
        "Volcanoes with Eruption Observed is the largest evidence category, while Holocene is the lowest."
      ]
    },
    {
      "cell_type": "code",
      "metadata": {
        "id": "XcZ3xt5slgVA",
        "colab": {
          "base_uri": "https://localhost:8080/",
          "height": 900
        },
        "outputId": "48116d77-6a0b-487c-edf8-d28d56859f4d"
      },
      "source": [
        "fig = plt.figure(figsize=(10, 4)) \n",
        "\n",
        "chart=sns.countplot(data=volcano, x='tectonic_settings')\n",
        "chart.set_xticklabels(chart.get_xticklabels(), rotation=90)"
      ],
      "execution_count": null,
      "outputs": [
        {
          "output_type": "execute_result",
          "data": {
            "text/plain": [
              "[Text(0, 0, 'Subduction zone / Continental crust (>25 km)'),\n",
              " Text(0, 0, 'Intraplate / Continental crust (>25 km)'),\n",
              " Text(0, 0, 'Rift zone / Intermediate crust (15-25 km)'),\n",
              " Text(0, 0, 'Subduction zone / Crustal thickness unknown'),\n",
              " Text(0, 0, 'Rift zone / Oceanic crust (< 15 km)'),\n",
              " Text(0, 0, 'Subduction zone / Oceanic crust (< 15 km)'),\n",
              " Text(0, 0, 'Subduction zone / Intermediate crust (15-25 km)'),\n",
              " Text(0, 0, 'Rift zone / Continental crust (>25 km)'),\n",
              " Text(0, 0, 'Intraplate / Oceanic crust (< 15 km)'),\n",
              " Text(0, 0, 'Intraplate / Intermediate crust (15-25 km)'),\n",
              " Text(0, 0, 'Unknown')]"
            ]
          },
          "metadata": {
            "tags": []
          },
          "execution_count": 95
        },
        {
          "output_type": "display_data",
          "data": {
            "image/png": "[encoded data removed]",
            "text/plain": [
              "<Figure size 1000x400 with 1 Axes>"
            ]
          },
          "metadata": {
            "tags": []
          }
        }
      ]
    },
    {
      "cell_type": "markdown",
      "metadata": {
        "id": "HxhTUXRYpMfJ"
      },
      "source": [
        "**The most common tectonic seeting is the subduction zone of the continental crust** <br/>\n",
        "The crust is the outermost major layer of the earth, ranging from about **10 to 65 km in thickness worldwide**. The uppermost 15-35 km of crust is brittle enough to produce earthquakes."
      ]
    },
    {
      "cell_type": "markdown",
      "metadata": {
        "id": "BL1_l3_1rAlI"
      },
      "source": [
        "#####Split the tectonic settings for further analysis"
      ]
    },
    {
      "cell_type": "markdown",
      "metadata": {
        "id": "eMR83qom-2w2"
      },
      "source": [
        "<center><img src='https://cdn.britannica.com/s:690x388,c:crop/53/4953-050-0FB97A5C/subduction-zones-Stratovolcanoes-Earth-plate-margins-activity.jpg' height=300 />\n",
        "\n",
        "<center><img src='https://pressbooks.bccampus.ca/astronomy1105/wp-content/uploads/sites/235/2017/08/OSC_Astro_08_02_RiftZone-2.jpg'height=300 />\n"
      ]
    },
    {
      "cell_type": "code",
      "metadata": {
        "id": "tfyxdfvolXU5"
      },
      "source": [
        "#make a new data copy to work with\n",
        "tectonic = volcano.copy()"
      ],
      "execution_count": null,
      "outputs": []
    },
    {
      "cell_type": "code",
      "metadata": {
        "id": "qPlFw8Ve6yq6"
      },
      "source": [
        "#reveal new features\n",
        "\n",
        "#split strings\n",
        "brackets = tectonic['tectonic_settings'].str.split(('[(+*)]'), expand=True)\n",
        "crusts = brackets[0].str.split(('/'), expand=True)\n",
        "\n",
        "#new columns\n",
        "tectonic['crust_thickness'] = brackets[1]\n",
        "tectonic['volcanism'] = crusts[0]\n",
        "tectonic['crust'] = crusts[1]\n",
        "\n",
        "#delete the tectonic settings column\n",
        "tectonic = tectonic.drop(['tectonic_settings'], axis=1)"
      ],
      "execution_count": null,
      "outputs": []
    },
    {
      "cell_type": "markdown",
      "metadata": {
        "id": "Qviamv5LgWy8"
      },
      "source": [
        "#####***eruptions***"
      ]
    },
    {
      "cell_type": "code",
      "metadata": {
        "id": "X7Q4Qyn6d2kh",
        "colab": {
          "base_uri": "https://localhost:8080/",
          "height": 490
        },
        "outputId": "dcf85a7f-dc45-4c4b-8d42-873b07f9dbe8"
      },
      "source": [
        "eruptions.head().T"
      ],
      "execution_count": null,
      "outputs": [
        {
          "output_type": "execute_result",
          "data": {
            "text/html": [
              "<div>\n",
              "<style scoped>\n",
              "    .dataframe tbody tr th:only-of-type {\n",
              "        vertical-align: middle;\n",
              "    }\n",
              "\n",
              "    .dataframe tbody tr th {\n",
              "        vertical-align: top;\n",
              "    }\n",
              "\n",
              "    .dataframe thead th {\n",
              "        text-align: right;\n",
              "    }\n",
              "</style>\n",
              "<table border=\"1\" class=\"dataframe\">\n",
              "  <thead>\n",
              "    <tr style=\"text-align: right;\">\n",
              "      <th></th>\n",
              "      <th>volcano_number</th>\n",
              "      <th>volcano_name</th>\n",
              "      <th>eruption_number</th>\n",
              "      <th>eruption_category</th>\n",
              "      <th>area_of_activity</th>\n",
              "      <th>vei</th>\n",
              "      <th>start_year</th>\n",
              "      <th>start_month</th>\n",
              "      <th>start_day</th>\n",
              "      <th>evidence_method_dating</th>\n",
              "      <th>end_year</th>\n",
              "      <th>end_month</th>\n",
              "      <th>end_day</th>\n",
              "      <th>latitude</th>\n",
              "      <th>longitude</th>\n",
              "    </tr>\n",
              "  </thead>\n",
              "  <tbody>\n",
              "    <tr>\n",
              "      <th>0</th>\n",
              "      <td>266030</td>\n",
              "      <td>Soputan</td>\n",
              "      <td>22354</td>\n",
              "      <td>Confirmed Eruption</td>\n",
              "      <td>NaN</td>\n",
              "      <td>NaN</td>\n",
              "      <td>2020.0</td>\n",
              "      <td>3.0</td>\n",
              "      <td>23.0</td>\n",
              "      <td>Historical Observations</td>\n",
              "      <td>2020.0</td>\n",
              "      <td>4.0</td>\n",
              "      <td>2.0</td>\n",
              "      <td>1.112</td>\n",
              "      <td>124.737</td>\n",
              "    </tr>\n",
              "    <tr>\n",
              "      <th>1</th>\n",
              "      <td>343100</td>\n",
              "      <td>San Miguel</td>\n",
              "      <td>22355</td>\n",
              "      <td>Confirmed Eruption</td>\n",
              "      <td>NaN</td>\n",
              "      <td>NaN</td>\n",
              "      <td>2020.0</td>\n",
              "      <td>2.0</td>\n",
              "      <td>22.0</td>\n",
              "      <td>Historical Observations</td>\n",
              "      <td>2020.0</td>\n",
              "      <td>2.0</td>\n",
              "      <td>22.0</td>\n",
              "      <td>13.434</td>\n",
              "      <td>-88.269</td>\n",
              "    </tr>\n",
              "    <tr>\n",
              "      <th>2</th>\n",
              "      <td>233020</td>\n",
              "      <td>Fournaise, Piton de la</td>\n",
              "      <td>22343</td>\n",
              "      <td>Confirmed Eruption</td>\n",
              "      <td>NaN</td>\n",
              "      <td>NaN</td>\n",
              "      <td>2020.0</td>\n",
              "      <td>2.0</td>\n",
              "      <td>10.0</td>\n",
              "      <td>Historical Observations</td>\n",
              "      <td>2020.0</td>\n",
              "      <td>4.0</td>\n",
              "      <td>6.0</td>\n",
              "      <td>-21.244</td>\n",
              "      <td>55.708</td>\n",
              "    </tr>\n",
              "    <tr>\n",
              "      <th>3</th>\n",
              "      <td>345020</td>\n",
              "      <td>Rincon de la Vieja</td>\n",
              "      <td>22346</td>\n",
              "      <td>Confirmed Eruption</td>\n",
              "      <td>NaN</td>\n",
              "      <td>NaN</td>\n",
              "      <td>2020.0</td>\n",
              "      <td>1.0</td>\n",
              "      <td>31.0</td>\n",
              "      <td>Historical Observations</td>\n",
              "      <td>2020.0</td>\n",
              "      <td>4.0</td>\n",
              "      <td>17.0</td>\n",
              "      <td>10.830</td>\n",
              "      <td>-85.324</td>\n",
              "    </tr>\n",
              "    <tr>\n",
              "      <th>4</th>\n",
              "      <td>353010</td>\n",
              "      <td>Fernandina</td>\n",
              "      <td>22347</td>\n",
              "      <td>Confirmed Eruption</td>\n",
              "      <td>NaN</td>\n",
              "      <td>NaN</td>\n",
              "      <td>2020.0</td>\n",
              "      <td>1.0</td>\n",
              "      <td>12.0</td>\n",
              "      <td>Historical Observations</td>\n",
              "      <td>2020.0</td>\n",
              "      <td>1.0</td>\n",
              "      <td>12.0</td>\n",
              "      <td>-0.370</td>\n",
              "      <td>-91.550</td>\n",
              "    </tr>\n",
              "    <tr>\n",
              "      <th>...</th>\n",
              "      <td>...</td>\n",
              "      <td>...</td>\n",
              "      <td>...</td>\n",
              "      <td>...</td>\n",
              "      <td>...</td>\n",
              "      <td>...</td>\n",
              "      <td>...</td>\n",
              "      <td>...</td>\n",
              "      <td>...</td>\n",
              "      <td>...</td>\n",
              "      <td>...</td>\n",
              "      <td>...</td>\n",
              "      <td>...</td>\n",
              "      <td>...</td>\n",
              "      <td>...</td>\n",
              "    </tr>\n",
              "    <tr>\n",
              "      <th>11173</th>\n",
              "      <td>324020</td>\n",
              "      <td>Craters of the Moon</td>\n",
              "      <td>21101</td>\n",
              "      <td>Confirmed Eruption</td>\n",
              "      <td>Sunset cone</td>\n",
              "      <td>0.0</td>\n",
              "      <td>-10060.0</td>\n",
              "      <td>NaN</td>\n",
              "      <td>NaN</td>\n",
              "      <td>Radiocarbon (uncorrected)</td>\n",
              "      <td>NaN</td>\n",
              "      <td>NaN</td>\n",
              "      <td>NaN</td>\n",
              "      <td>43.420</td>\n",
              "      <td>-113.500</td>\n",
              "    </tr>\n",
              "    <tr>\n",
              "      <th>11174</th>\n",
              "      <td>222161</td>\n",
              "      <td>Igwisi Hills</td>\n",
              "      <td>22141</td>\n",
              "      <td>Confirmed Eruption</td>\n",
              "      <td>NE Volcano</td>\n",
              "      <td>1.0</td>\n",
              "      <td>-10450.0</td>\n",
              "      <td>NaN</td>\n",
              "      <td>NaN</td>\n",
              "      <td>Surface Exposure</td>\n",
              "      <td>NaN</td>\n",
              "      <td>NaN</td>\n",
              "      <td>NaN</td>\n",
              "      <td>-4.889</td>\n",
              "      <td>31.933</td>\n",
              "    </tr>\n",
              "    <tr>\n",
              "      <th>11175</th>\n",
              "      <td>357121</td>\n",
              "      <td>Quetrupillan</td>\n",
              "      <td>22351</td>\n",
              "      <td>Confirmed Eruption</td>\n",
              "      <td>NaN</td>\n",
              "      <td>3.0</td>\n",
              "      <td>-10658.0</td>\n",
              "      <td>NaN</td>\n",
              "      <td>NaN</td>\n",
              "      <td>Radiocarbon (corrected)</td>\n",
              "      <td>NaN</td>\n",
              "      <td>NaN</td>\n",
              "      <td>NaN</td>\n",
              "      <td>-39.496</td>\n",
              "      <td>-71.722</td>\n",
              "    </tr>\n",
              "    <tr>\n",
              "      <th>11176</th>\n",
              "      <td>357121</td>\n",
              "      <td>Quetrupillan</td>\n",
              "      <td>22352</td>\n",
              "      <td>Confirmed Eruption</td>\n",
              "      <td>NaN</td>\n",
              "      <td>3.0</td>\n",
              "      <td>-11345.0</td>\n",
              "      <td>NaN</td>\n",
              "      <td>NaN</td>\n",
              "      <td>Radiocarbon (corrected)</td>\n",
              "      <td>NaN</td>\n",
              "      <td>NaN</td>\n",
              "      <td>NaN</td>\n",
              "      <td>-39.496</td>\n",
              "      <td>-71.722</td>\n",
              "    </tr>\n",
              "    <tr>\n",
              "      <th>11177</th>\n",
              "      <td>390090</td>\n",
              "      <td>Saunders</td>\n",
              "      <td>21099</td>\n",
              "      <td>Confirmed Eruption</td>\n",
              "      <td>NaN</td>\n",
              "      <td>0.0</td>\n",
              "      <td>NaN</td>\n",
              "      <td>NaN</td>\n",
              "      <td>NaN</td>\n",
              "      <td>NaN</td>\n",
              "      <td>NaN</td>\n",
              "      <td>NaN</td>\n",
              "      <td>NaN</td>\n",
              "      <td>-57.800</td>\n",
              "      <td>-26.483</td>\n",
              "    </tr>\n",
              "  </tbody>\n",
              "</table>\n",
              "<p>11178 rows × 15 columns</p>\n",
              "</div>"
            ],
            "text/plain": [
              "       volcano_number            volcano_name  eruption_number  \\\n",
              "0              266030                 Soputan            22354   \n",
              "1              343100              San Miguel            22355   \n",
              "2              233020  Fournaise, Piton de la            22343   \n",
              "3              345020      Rincon de la Vieja            22346   \n",
              "4              353010              Fernandina            22347   \n",
              "...               ...                     ...              ...   \n",
              "11173          324020     Craters of the Moon            21101   \n",
              "11174          222161            Igwisi Hills            22141   \n",
              "11175          357121            Quetrupillan            22351   \n",
              "11176          357121            Quetrupillan            22352   \n",
              "11177          390090                Saunders            21099   \n",
              "\n",
              "        eruption_category area_of_activity  vei  start_year  start_month  \\\n",
              "0      Confirmed Eruption              NaN  NaN      2020.0          3.0   \n",
              "1      Confirmed Eruption              NaN  NaN      2020.0          2.0   \n",
              "2      Confirmed Eruption              NaN  NaN      2020.0          2.0   \n",
              "3      Confirmed Eruption              NaN  NaN      2020.0          1.0   \n",
              "4      Confirmed Eruption              NaN  NaN      2020.0          1.0   \n",
              "...                   ...              ...  ...         ...          ...   \n",
              "11173  Confirmed Eruption      Sunset cone  0.0    -10060.0          NaN   \n",
              "11174  Confirmed Eruption       NE Volcano  1.0    -10450.0          NaN   \n",
              "11175  Confirmed Eruption              NaN  3.0    -10658.0          NaN   \n",
              "11176  Confirmed Eruption              NaN  3.0    -11345.0          NaN   \n",
              "11177  Confirmed Eruption              NaN  0.0         NaN          NaN   \n",
              "\n",
              "       start_day     evidence_method_dating  end_year  end_month  end_day  \\\n",
              "0           23.0    Historical Observations    2020.0        4.0      2.0   \n",
              "1           22.0    Historical Observations    2020.0        2.0     22.0   \n",
              "2           10.0    Historical Observations    2020.0        4.0      6.0   \n",
              "3           31.0    Historical Observations    2020.0        4.0     17.0   \n",
              "4           12.0    Historical Observations    2020.0        1.0     12.0   \n",
              "...          ...                        ...       ...        ...      ...   \n",
              "11173        NaN  Radiocarbon (uncorrected)       NaN        NaN      NaN   \n",
              "11174        NaN           Surface Exposure       NaN        NaN      NaN   \n",
              "11175        NaN    Radiocarbon (corrected)       NaN        NaN      NaN   \n",
              "11176        NaN    Radiocarbon (corrected)       NaN        NaN      NaN   \n",
              "11177        NaN                        NaN       NaN        NaN      NaN   \n",
              "\n",
              "       latitude  longitude  \n",
              "0         1.112    124.737  \n",
              "1        13.434    -88.269  \n",
              "2       -21.244     55.708  \n",
              "3        10.830    -85.324  \n",
              "4        -0.370    -91.550  \n",
              "...         ...        ...  \n",
              "11173    43.420   -113.500  \n",
              "11174    -4.889     31.933  \n",
              "11175   -39.496    -71.722  \n",
              "11176   -39.496    -71.722  \n",
              "11177   -57.800    -26.483  \n",
              "\n",
              "[11178 rows x 15 columns]"
            ]
          },
          "metadata": {
            "tags": []
          },
          "execution_count": 58
        }
      ]
    },
    {
      "cell_type": "markdown",
      "metadata": {
        "id": "ho-mTKi4h1Co"
      },
      "source": [
        "There are 11178 rows and 15 columns"
      ]
    },
    {
      "cell_type": "code",
      "metadata": {
        "colab": {
          "base_uri": "https://localhost:8080/",
          "height": 297
        },
        "id": "ecUXLkU5XNSe",
        "outputId": "0e4ea237-78f1-4c95-f124-134de87af951"
      },
      "source": [
        "eruptions.describe()"
      ],
      "execution_count": null,
      "outputs": [
        {
          "output_type": "execute_result",
          "data": {
            "text/html": [
              "<div>\n",
              "<style scoped>\n",
              "    .dataframe tbody tr th:only-of-type {\n",
              "        vertical-align: middle;\n",
              "    }\n",
              "\n",
              "    .dataframe tbody tr th {\n",
              "        vertical-align: top;\n",
              "    }\n",
              "\n",
              "    .dataframe thead th {\n",
              "        text-align: right;\n",
              "    }\n",
              "</style>\n",
              "<table border=\"1\" class=\"dataframe\">\n",
              "  <thead>\n",
              "    <tr style=\"text-align: right;\">\n",
              "      <th></th>\n",
              "      <th>volcano_number</th>\n",
              "      <th>eruption_number</th>\n",
              "      <th>vei</th>\n",
              "      <th>start_year</th>\n",
              "      <th>start_month</th>\n",
              "      <th>start_day</th>\n",
              "      <th>end_year</th>\n",
              "      <th>end_month</th>\n",
              "      <th>end_day</th>\n",
              "      <th>latitude</th>\n",
              "      <th>longitude</th>\n",
              "    </tr>\n",
              "  </thead>\n",
              "  <tbody>\n",
              "    <tr>\n",
              "      <th>count</th>\n",
              "      <td>11178.000000</td>\n",
              "      <td>11178.000000</td>\n",
              "      <td>8272.000000</td>\n",
              "      <td>11177.000000</td>\n",
              "      <td>10985.000000</td>\n",
              "      <td>10982.000000</td>\n",
              "      <td>4332.000000</td>\n",
              "      <td>4329.000000</td>\n",
              "      <td>4326.000000</td>\n",
              "      <td>11178.000000</td>\n",
              "      <td>11178.000000</td>\n",
              "    </tr>\n",
              "    <tr>\n",
              "      <th>mean</th>\n",
              "      <td>300284.371176</td>\n",
              "      <td>15666.905439</td>\n",
              "      <td>1.947897</td>\n",
              "      <td>622.848260</td>\n",
              "      <td>3.450888</td>\n",
              "      <td>7.015025</td>\n",
              "      <td>1917.326639</td>\n",
              "      <td>6.220836</td>\n",
              "      <td>13.315996</td>\n",
              "      <td>16.865778</td>\n",
              "      <td>31.572377</td>\n",
              "    </tr>\n",
              "    <tr>\n",
              "      <th>std</th>\n",
              "      <td>52321.193203</td>\n",
              "      <td>3297.612433</td>\n",
              "      <td>1.161098</td>\n",
              "      <td>2482.174317</td>\n",
              "      <td>4.071419</td>\n",
              "      <td>9.645386</td>\n",
              "      <td>157.646408</td>\n",
              "      <td>3.686128</td>\n",
              "      <td>9.831282</td>\n",
              "      <td>30.761752</td>\n",
              "      <td>115.248384</td>\n",
              "    </tr>\n",
              "    <tr>\n",
              "      <th>min</th>\n",
              "      <td>210010.000000</td>\n",
              "      <td>10001.000000</td>\n",
              "      <td>0.000000</td>\n",
              "      <td>-11345.000000</td>\n",
              "      <td>0.000000</td>\n",
              "      <td>0.000000</td>\n",
              "      <td>-475.000000</td>\n",
              "      <td>0.000000</td>\n",
              "      <td>0.000000</td>\n",
              "      <td>-77.530000</td>\n",
              "      <td>-179.970000</td>\n",
              "    </tr>\n",
              "    <tr>\n",
              "      <th>25%</th>\n",
              "      <td>263310.000000</td>\n",
              "      <td>12817.250000</td>\n",
              "      <td>1.000000</td>\n",
              "      <td>680.000000</td>\n",
              "      <td>0.000000</td>\n",
              "      <td>0.000000</td>\n",
              "      <td>1895.000000</td>\n",
              "      <td>3.000000</td>\n",
              "      <td>4.000000</td>\n",
              "      <td>-6.102000</td>\n",
              "      <td>-77.656000</td>\n",
              "    </tr>\n",
              "    <tr>\n",
              "      <th>50%</th>\n",
              "      <td>290050.000000</td>\n",
              "      <td>15650.500000</td>\n",
              "      <td>2.000000</td>\n",
              "      <td>1847.000000</td>\n",
              "      <td>1.000000</td>\n",
              "      <td>0.000000</td>\n",
              "      <td>1957.000000</td>\n",
              "      <td>6.000000</td>\n",
              "      <td>15.000000</td>\n",
              "      <td>17.600000</td>\n",
              "      <td>55.708000</td>\n",
              "    </tr>\n",
              "    <tr>\n",
              "      <th>75%</th>\n",
              "      <td>343030.000000</td>\n",
              "      <td>18463.750000</td>\n",
              "      <td>2.000000</td>\n",
              "      <td>1950.000000</td>\n",
              "      <td>7.000000</td>\n",
              "      <td>15.000000</td>\n",
              "      <td>1992.000000</td>\n",
              "      <td>9.000000</td>\n",
              "      <td>21.000000</td>\n",
              "      <td>40.821000</td>\n",
              "      <td>139.394000</td>\n",
              "    </tr>\n",
              "    <tr>\n",
              "      <th>max</th>\n",
              "      <td>600000.000000</td>\n",
              "      <td>22355.000000</td>\n",
              "      <td>7.000000</td>\n",
              "      <td>2020.000000</td>\n",
              "      <td>12.000000</td>\n",
              "      <td>31.000000</td>\n",
              "      <td>2020.000000</td>\n",
              "      <td>12.000000</td>\n",
              "      <td>31.000000</td>\n",
              "      <td>85.608000</td>\n",
              "      <td>179.580000</td>\n",
              "    </tr>\n",
              "  </tbody>\n",
              "</table>\n",
              "</div>"
            ],
            "text/plain": [
              "       volcano_number  eruption_number  ...      latitude     longitude\n",
              "count    11178.000000     11178.000000  ...  11178.000000  11178.000000\n",
              "mean    300284.371176     15666.905439  ...     16.865778     31.572377\n",
              "std      52321.193203      3297.612433  ...     30.761752    115.248384\n",
              "min     210010.000000     10001.000000  ...    -77.530000   -179.970000\n",
              "25%     263310.000000     12817.250000  ...     -6.102000    -77.656000\n",
              "50%     290050.000000     15650.500000  ...     17.600000     55.708000\n",
              "75%     343030.000000     18463.750000  ...     40.821000    139.394000\n",
              "max     600000.000000     22355.000000  ...     85.608000    179.580000\n",
              "\n",
              "[8 rows x 11 columns]"
            ]
          },
          "metadata": {
            "tags": []
          },
          "execution_count": 11
        }
      ]
    },
    {
      "cell_type": "markdown",
      "metadata": {
        "id": "jfcWBpsrYdP9"
      },
      "source": [
        "The date seem to be in normal calendar dates. Considering the Github ReadMe said this was a 2020 data, I would leave as integer."
      ]
    },
    {
      "cell_type": "code",
      "metadata": {
        "colab": {
          "base_uri": "https://localhost:8080/"
        },
        "id": "hGHvzoQeMTvM",
        "outputId": "a6eeedb5-57d9-4c8a-e83c-4edbcbb1de12"
      },
      "source": [
        "#see unique values\n",
        "[(col, eruptions[col].nunique()) for col in eruptions]"
      ],
      "execution_count": null,
      "outputs": [
        {
          "output_type": "execute_result",
          "data": {
            "text/plain": [
              "[('volcano_number', 931),\n",
              " ('volcano_name', 921),\n",
              " ('eruption_number', 11176),\n",
              " ('eruption_category', 3),\n",
              " ('area_of_activity', 2592),\n",
              " ('vei', 8),\n",
              " ('start_year', 1694),\n",
              " ('start_month', 13),\n",
              " ('start_day', 32),\n",
              " ('evidence_method_dating', 20),\n",
              " ('end_year', 455),\n",
              " ('end_month', 13),\n",
              " ('end_day', 32),\n",
              " ('latitude', 915),\n",
              " ('longitude', 923)]"
            ]
          },
          "metadata": {
            "tags": []
          },
          "execution_count": 5
        }
      ]
    },
    {
      "cell_type": "code",
      "metadata": {
        "colab": {
          "base_uri": "https://localhost:8080/"
        },
        "id": "69C7svPqMaW0",
        "outputId": "cb56676f-00dc-4e10-892d-0d9e4204c65a"
      },
      "source": [
        "eruptions['eruption_category'].unique()"
      ],
      "execution_count": null,
      "outputs": [
        {
          "output_type": "execute_result",
          "data": {
            "text/plain": [
              "array(['Confirmed Eruption', 'Uncertain Eruption', 'Discredited Eruption'],\n",
              "      dtype=object)"
            ]
          },
          "metadata": {
            "tags": []
          },
          "execution_count": 7
        }
      ]
    },
    {
      "cell_type": "markdown",
      "metadata": {
        "id": "WEAyRLgvhpc7"
      },
      "source": [
        "#####***Data Combinations***"
      ]
    },
    {
      "cell_type": "markdown",
      "metadata": {
        "id": "2TmSwELarRSs"
      },
      "source": [
        "I would use the eruptions data as my anchor data, combining other dataframes for further analysis where needed."
      ]
    },
    {
      "cell_type": "markdown",
      "metadata": {
        "id": "Kwd_R2dLVHGg"
      },
      "source": [
        "#####Filter Data"
      ]
    },
    {
      "cell_type": "code",
      "metadata": {
        "id": "MNAvVJZkVFjR"
      },
      "source": [
        "#anchor dataframe is eruptions\n",
        "#merge data on eruptions\n",
        "new_df = eruptions.merge(tectonic, on=['volcano_number', 'volcano_name'], how='inner')"
      ],
      "execution_count": null,
      "outputs": []
    },
    {
      "cell_type": "code",
      "metadata": {
        "colab": {
          "base_uri": "https://localhost:8080/",
          "height": 1000
        },
        "id": "H2zNnK-WW7fu",
        "outputId": "dd88c444-dee4-41c1-9415-4ec15a2370d0"
      },
      "source": [
        "new_df.head().T"
      ],
      "execution_count": null,
      "outputs": [
        {
          "output_type": "execute_result",
          "data": {
            "text/html": [
              "<div>\n",
              "<style scoped>\n",
              "    .dataframe tbody tr th:only-of-type {\n",
              "        vertical-align: middle;\n",
              "    }\n",
              "\n",
              "    .dataframe tbody tr th {\n",
              "        vertical-align: top;\n",
              "    }\n",
              "\n",
              "    .dataframe thead th {\n",
              "        text-align: right;\n",
              "    }\n",
              "</style>\n",
              "<table border=\"1\" class=\"dataframe\">\n",
              "  <thead>\n",
              "    <tr style=\"text-align: right;\">\n",
              "      <th></th>\n",
              "      <th>0</th>\n",
              "      <th>1</th>\n",
              "      <th>2</th>\n",
              "      <th>3</th>\n",
              "      <th>4</th>\n",
              "    </tr>\n",
              "  </thead>\n",
              "  <tbody>\n",
              "    <tr>\n",
              "      <th>volcano_number</th>\n",
              "      <td>266030</td>\n",
              "      <td>266030</td>\n",
              "      <td>266030</td>\n",
              "      <td>266030</td>\n",
              "      <td>266030</td>\n",
              "    </tr>\n",
              "    <tr>\n",
              "      <th>volcano_name</th>\n",
              "      <td>Soputan</td>\n",
              "      <td>Soputan</td>\n",
              "      <td>Soputan</td>\n",
              "      <td>Soputan</td>\n",
              "      <td>Soputan</td>\n",
              "    </tr>\n",
              "    <tr>\n",
              "      <th>eruption_number</th>\n",
              "      <td>22354</td>\n",
              "      <td>22293</td>\n",
              "      <td>22105</td>\n",
              "      <td>20988</td>\n",
              "      <td>20821</td>\n",
              "    </tr>\n",
              "    <tr>\n",
              "      <th>eruption_category</th>\n",
              "      <td>Confirmed Eruption</td>\n",
              "      <td>Confirmed Eruption</td>\n",
              "      <td>Confirmed Eruption</td>\n",
              "      <td>Confirmed Eruption</td>\n",
              "      <td>Confirmed Eruption</td>\n",
              "    </tr>\n",
              "    <tr>\n",
              "      <th>area_of_activity</th>\n",
              "      <td>NaN</td>\n",
              "      <td>NaN</td>\n",
              "      <td>NaN</td>\n",
              "      <td>NaN</td>\n",
              "      <td>NaN</td>\n",
              "    </tr>\n",
              "    <tr>\n",
              "      <th>vei</th>\n",
              "      <td>NaN</td>\n",
              "      <td>3</td>\n",
              "      <td>3</td>\n",
              "      <td>3</td>\n",
              "      <td>3</td>\n",
              "    </tr>\n",
              "    <tr>\n",
              "      <th>start_year</th>\n",
              "      <td>2020</td>\n",
              "      <td>2018</td>\n",
              "      <td>2016</td>\n",
              "      <td>2015</td>\n",
              "      <td>2012</td>\n",
              "    </tr>\n",
              "    <tr>\n",
              "      <th>start_month</th>\n",
              "      <td>3</td>\n",
              "      <td>10</td>\n",
              "      <td>1</td>\n",
              "      <td>1</td>\n",
              "      <td>8</td>\n",
              "    </tr>\n",
              "    <tr>\n",
              "      <th>start_day</th>\n",
              "      <td>23</td>\n",
              "      <td>2</td>\n",
              "      <td>2</td>\n",
              "      <td>6</td>\n",
              "      <td>26</td>\n",
              "    </tr>\n",
              "    <tr>\n",
              "      <th>evidence_method_dating</th>\n",
              "      <td>Historical Observations</td>\n",
              "      <td>Historical Observations</td>\n",
              "      <td>Historical Observations</td>\n",
              "      <td>Historical Observations</td>\n",
              "      <td>Historical Observations</td>\n",
              "    </tr>\n",
              "    <tr>\n",
              "      <th>end_year</th>\n",
              "      <td>2020</td>\n",
              "      <td>2018</td>\n",
              "      <td>2016</td>\n",
              "      <td>2015</td>\n",
              "      <td>2012</td>\n",
              "    </tr>\n",
              "    <tr>\n",
              "      <th>end_month</th>\n",
              "      <td>4</td>\n",
              "      <td>12</td>\n",
              "      <td>2</td>\n",
              "      <td>3</td>\n",
              "      <td>9</td>\n",
              "    </tr>\n",
              "    <tr>\n",
              "      <th>end_day</th>\n",
              "      <td>2</td>\n",
              "      <td>16</td>\n",
              "      <td>7</td>\n",
              "      <td>7</td>\n",
              "      <td>19</td>\n",
              "    </tr>\n",
              "    <tr>\n",
              "      <th>latitude_x</th>\n",
              "      <td>1.112</td>\n",
              "      <td>1.112</td>\n",
              "      <td>1.112</td>\n",
              "      <td>1.112</td>\n",
              "      <td>1.112</td>\n",
              "    </tr>\n",
              "    <tr>\n",
              "      <th>longitude_x</th>\n",
              "      <td>124.737</td>\n",
              "      <td>124.737</td>\n",
              "      <td>124.737</td>\n",
              "      <td>124.737</td>\n",
              "      <td>124.737</td>\n",
              "    </tr>\n",
              "    <tr>\n",
              "      <th>primary_volcano_type</th>\n",
              "      <td>Stratovolcano</td>\n",
              "      <td>Stratovolcano</td>\n",
              "      <td>Stratovolcano</td>\n",
              "      <td>Stratovolcano</td>\n",
              "      <td>Stratovolcano</td>\n",
              "    </tr>\n",
              "    <tr>\n",
              "      <th>last_eruption_year</th>\n",
              "      <td>2020</td>\n",
              "      <td>2020</td>\n",
              "      <td>2020</td>\n",
              "      <td>2020</td>\n",
              "      <td>2020</td>\n",
              "    </tr>\n",
              "    <tr>\n",
              "      <th>country</th>\n",
              "      <td>Indonesia</td>\n",
              "      <td>Indonesia</td>\n",
              "      <td>Indonesia</td>\n",
              "      <td>Indonesia</td>\n",
              "      <td>Indonesia</td>\n",
              "    </tr>\n",
              "    <tr>\n",
              "      <th>region</th>\n",
              "      <td>Indonesia</td>\n",
              "      <td>Indonesia</td>\n",
              "      <td>Indonesia</td>\n",
              "      <td>Indonesia</td>\n",
              "      <td>Indonesia</td>\n",
              "    </tr>\n",
              "    <tr>\n",
              "      <th>subregion</th>\n",
              "      <td>Sulawesi</td>\n",
              "      <td>Sulawesi</td>\n",
              "      <td>Sulawesi</td>\n",
              "      <td>Sulawesi</td>\n",
              "      <td>Sulawesi</td>\n",
              "    </tr>\n",
              "    <tr>\n",
              "      <th>latitude_y</th>\n",
              "      <td>1.112</td>\n",
              "      <td>1.112</td>\n",
              "      <td>1.112</td>\n",
              "      <td>1.112</td>\n",
              "      <td>1.112</td>\n",
              "    </tr>\n",
              "    <tr>\n",
              "      <th>longitude_y</th>\n",
              "      <td>124.737</td>\n",
              "      <td>124.737</td>\n",
              "      <td>124.737</td>\n",
              "      <td>124.737</td>\n",
              "      <td>124.737</td>\n",
              "    </tr>\n",
              "    <tr>\n",
              "      <th>elevation</th>\n",
              "      <td>1785</td>\n",
              "      <td>1785</td>\n",
              "      <td>1785</td>\n",
              "      <td>1785</td>\n",
              "      <td>1785</td>\n",
              "    </tr>\n",
              "    <tr>\n",
              "      <th>tectonic_settings</th>\n",
              "      <td>Subduction zone / Continental crust (&gt;25 km)</td>\n",
              "      <td>Subduction zone / Continental crust (&gt;25 km)</td>\n",
              "      <td>Subduction zone / Continental crust (&gt;25 km)</td>\n",
              "      <td>Subduction zone / Continental crust (&gt;25 km)</td>\n",
              "      <td>Subduction zone / Continental crust (&gt;25 km)</td>\n",
              "    </tr>\n",
              "    <tr>\n",
              "      <th>evidence_category</th>\n",
              "      <td>Eruption Observed</td>\n",
              "      <td>Eruption Observed</td>\n",
              "      <td>Eruption Observed</td>\n",
              "      <td>Eruption Observed</td>\n",
              "      <td>Eruption Observed</td>\n",
              "    </tr>\n",
              "    <tr>\n",
              "      <th>major_rock_1</th>\n",
              "      <td>Andesite / Basaltic Andesite</td>\n",
              "      <td>Andesite / Basaltic Andesite</td>\n",
              "      <td>Andesite / Basaltic Andesite</td>\n",
              "      <td>Andesite / Basaltic Andesite</td>\n",
              "      <td>Andesite / Basaltic Andesite</td>\n",
              "    </tr>\n",
              "    <tr>\n",
              "      <th>major_rock_2</th>\n",
              "      <td>Basalt / Picro-Basalt</td>\n",
              "      <td>Basalt / Picro-Basalt</td>\n",
              "      <td>Basalt / Picro-Basalt</td>\n",
              "      <td>Basalt / Picro-Basalt</td>\n",
              "      <td>Basalt / Picro-Basalt</td>\n",
              "    </tr>\n",
              "    <tr>\n",
              "      <th>major_rock_3</th>\n",
              "      <td></td>\n",
              "      <td></td>\n",
              "      <td></td>\n",
              "      <td></td>\n",
              "      <td></td>\n",
              "    </tr>\n",
              "    <tr>\n",
              "      <th>major_rock_4</th>\n",
              "      <td></td>\n",
              "      <td></td>\n",
              "      <td></td>\n",
              "      <td></td>\n",
              "      <td></td>\n",
              "    </tr>\n",
              "    <tr>\n",
              "      <th>major_rock_5</th>\n",
              "      <td></td>\n",
              "      <td></td>\n",
              "      <td></td>\n",
              "      <td></td>\n",
              "      <td></td>\n",
              "    </tr>\n",
              "    <tr>\n",
              "      <th>minor_rock_1</th>\n",
              "      <td></td>\n",
              "      <td></td>\n",
              "      <td></td>\n",
              "      <td></td>\n",
              "      <td></td>\n",
              "    </tr>\n",
              "    <tr>\n",
              "      <th>minor_rock_2</th>\n",
              "      <td></td>\n",
              "      <td></td>\n",
              "      <td></td>\n",
              "      <td></td>\n",
              "      <td></td>\n",
              "    </tr>\n",
              "    <tr>\n",
              "      <th>minor_rock_3</th>\n",
              "      <td></td>\n",
              "      <td></td>\n",
              "      <td></td>\n",
              "      <td></td>\n",
              "      <td></td>\n",
              "    </tr>\n",
              "    <tr>\n",
              "      <th>minor_rock_4</th>\n",
              "      <td></td>\n",
              "      <td></td>\n",
              "      <td></td>\n",
              "      <td></td>\n",
              "      <td></td>\n",
              "    </tr>\n",
              "    <tr>\n",
              "      <th>minor_rock_5</th>\n",
              "      <td></td>\n",
              "      <td></td>\n",
              "      <td></td>\n",
              "      <td></td>\n",
              "      <td></td>\n",
              "    </tr>\n",
              "    <tr>\n",
              "      <th>population_within_5_km</th>\n",
              "      <td>4724</td>\n",
              "      <td>4724</td>\n",
              "      <td>4724</td>\n",
              "      <td>4724</td>\n",
              "      <td>4724</td>\n",
              "    </tr>\n",
              "    <tr>\n",
              "      <th>population_within_10_km</th>\n",
              "      <td>69991</td>\n",
              "      <td>69991</td>\n",
              "      <td>69991</td>\n",
              "      <td>69991</td>\n",
              "      <td>69991</td>\n",
              "    </tr>\n",
              "    <tr>\n",
              "      <th>population_within_30_km</th>\n",
              "      <td>501336</td>\n",
              "      <td>501336</td>\n",
              "      <td>501336</td>\n",
              "      <td>501336</td>\n",
              "      <td>501336</td>\n",
              "    </tr>\n",
              "    <tr>\n",
              "      <th>population_within_100_km</th>\n",
              "      <td>1696768</td>\n",
              "      <td>1696768</td>\n",
              "      <td>1696768</td>\n",
              "      <td>1696768</td>\n",
              "      <td>1696768</td>\n",
              "    </tr>\n",
              "  </tbody>\n",
              "</table>\n",
              "</div>"
            ],
            "text/plain": [
              "                                                                     0  ...                                             4\n",
              "volcano_number                                                  266030  ...                                        266030\n",
              "volcano_name                                                   Soputan  ...                                       Soputan\n",
              "eruption_number                                                  22354  ...                                         20821\n",
              "eruption_category                                   Confirmed Eruption  ...                            Confirmed Eruption\n",
              "area_of_activity                                                   NaN  ...                                           NaN\n",
              "vei                                                                NaN  ...                                             3\n",
              "start_year                                                        2020  ...                                          2012\n",
              "start_month                                                          3  ...                                             8\n",
              "start_day                                                           23  ...                                            26\n",
              "evidence_method_dating                         Historical Observations  ...                       Historical Observations\n",
              "end_year                                                          2020  ...                                          2012\n",
              "end_month                                                            4  ...                                             9\n",
              "end_day                                                              2  ...                                            19\n",
              "latitude_x                                                       1.112  ...                                         1.112\n",
              "longitude_x                                                    124.737  ...                                       124.737\n",
              "primary_volcano_type                                     Stratovolcano  ...                                 Stratovolcano\n",
              "last_eruption_year                                                2020  ...                                          2020\n",
              "country                                                      Indonesia  ...                                     Indonesia\n",
              "region                                                       Indonesia  ...                                     Indonesia\n",
              "subregion                                                     Sulawesi  ...                                      Sulawesi\n",
              "latitude_y                                                       1.112  ...                                         1.112\n",
              "longitude_y                                                    124.737  ...                                       124.737\n",
              "elevation                                                         1785  ...                                          1785\n",
              "tectonic_settings         Subduction zone / Continental crust (>25 km)  ...  Subduction zone / Continental crust (>25 km)\n",
              "evidence_category                                    Eruption Observed  ...                             Eruption Observed\n",
              "major_rock_1                              Andesite / Basaltic Andesite  ...                  Andesite / Basaltic Andesite\n",
              "major_rock_2                                     Basalt / Picro-Basalt  ...                         Basalt / Picro-Basalt\n",
              "major_rock_3                                                            ...                                              \n",
              "major_rock_4                                                            ...                                              \n",
              "major_rock_5                                                            ...                                              \n",
              "minor_rock_1                                                            ...                                              \n",
              "minor_rock_2                                                            ...                                              \n",
              "minor_rock_3                                                            ...                                              \n",
              "minor_rock_4                                                            ...                                              \n",
              "minor_rock_5                                                            ...                                              \n",
              "population_within_5_km                                            4724  ...                                          4724\n",
              "population_within_10_km                                          69991  ...                                         69991\n",
              "population_within_30_km                                         501336  ...                                        501336\n",
              "population_within_100_km                                       1696768  ...                                       1696768\n",
              "\n",
              "[39 rows x 5 columns]"
            ]
          },
          "metadata": {
            "tags": []
          },
          "execution_count": 13
        }
      ]
    },
    {
      "cell_type": "code",
      "metadata": {
        "colab": {
          "base_uri": "https://localhost:8080/"
        },
        "id": "FVPsBRpTEtZy",
        "outputId": "4ea5ee63-d183-479c-b44d-6e33ddc51002"
      },
      "source": [
        "#use to get column indexes\n",
        "new_df.columns.get_loc('tectonic_settings')"
      ],
      "execution_count": null,
      "outputs": [
        {
          "output_type": "execute_result",
          "data": {
            "text/plain": [
              "23"
            ]
          },
          "metadata": {
            "tags": []
          },
          "execution_count": 76
        }
      ]
    },
    {
      "cell_type": "code",
      "metadata": {
        "id": "X-B1DFm7CDwG"
      },
      "source": [
        "# drop columns that will not be used in analysis\n",
        "drop_columns = [2, 4, 23, 25, 26, 27, 28, 29, 30, 31, 32, 33, 34, 35, 36, 37, 38]\n",
        "new_df.drop(new_df.columns[drop_columns], axis=1, inplace=True)"
      ],
      "execution_count": null,
      "outputs": []
    },
    {
      "cell_type": "code",
      "metadata": {
        "colab": {
          "base_uri": "https://localhost:8080/"
        },
        "id": "4CCvWOEQbNGu",
        "outputId": "c4868fa2-e246-439e-8462-c987444382bc"
      },
      "source": [
        "#see number of unique values in each column\n",
        "[(col, new_df[col].nunique()) for col in new_df]"
      ],
      "execution_count": null,
      "outputs": [
        {
          "output_type": "execute_result",
          "data": {
            "text/plain": [
              "[('volcano_number', 689),\n",
              " ('volcano_name', 687),\n",
              " ('eruption_category', 3),\n",
              " ('vei', 8),\n",
              " ('start_year', 1581),\n",
              " ('start_month', 13),\n",
              " ('start_day', 32),\n",
              " ('evidence_method_dating', 20),\n",
              " ('end_year', 450),\n",
              " ('end_month', 13),\n",
              " ('end_day', 32),\n",
              " ('latitude_x', 677),\n",
              " ('longitude_x', 683),\n",
              " ('primary_volcano_type', 23),\n",
              " ('last_eruption_year', 342),\n",
              " ('country', 76),\n",
              " ('region', 19),\n",
              " ('subregion', 95),\n",
              " ('latitude_y', 677),\n",
              " ('longitude_y', 683),\n",
              " ('elevation', 619),\n",
              " ('evidence_category', 5),\n",
              " ('crust_thickness', 3),\n",
              " ('volcanism', 3),\n",
              " ('crust', 4)]"
            ]
          },
          "metadata": {
            "tags": []
          },
          "execution_count": 78
        }
      ]
    },
    {
      "cell_type": "markdown",
      "metadata": {
        "id": "uQYY8P30b4jV"
      },
      "source": [
        "#####Investigate why 687 volcano names but 689 volcano numbers"
      ]
    },
    {
      "cell_type": "code",
      "metadata": {
        "colab": {
          "base_uri": "https://localhost:8080/",
          "height": 1000
        },
        "id": "LV-PJqMeekrx",
        "outputId": "9c991a1e-c7b1-44c0-b939-bb4db1e3cc5f"
      },
      "source": [
        "#check for occurrences of same volcano name but diffeent numbers\n",
        "new_df[new_df.groupby(['volcano_name'])['volcano_number'].transform('nunique') > 1]"
      ],
      "execution_count": null,
      "outputs": [
        {
          "output_type": "execute_result",
          "data": {
            "text/html": [
              "<div>\n",
              "<style scoped>\n",
              "    .dataframe tbody tr th:only-of-type {\n",
              "        vertical-align: middle;\n",
              "    }\n",
              "\n",
              "    .dataframe tbody tr th {\n",
              "        vertical-align: top;\n",
              "    }\n",
              "\n",
              "    .dataframe thead th {\n",
              "        text-align: right;\n",
              "    }\n",
              "</style>\n",
              "<table border=\"1\" class=\"dataframe\">\n",
              "  <thead>\n",
              "    <tr style=\"text-align: right;\">\n",
              "      <th></th>\n",
              "      <th>volcano_number</th>\n",
              "      <th>volcano_name</th>\n",
              "      <th>eruption_category</th>\n",
              "      <th>vei</th>\n",
              "      <th>start_year</th>\n",
              "      <th>start_month</th>\n",
              "      <th>start_day</th>\n",
              "      <th>evidence_method_dating</th>\n",
              "      <th>end_year</th>\n",
              "      <th>end_month</th>\n",
              "      <th>end_day</th>\n",
              "      <th>latitude_x</th>\n",
              "      <th>longitude_x</th>\n",
              "      <th>primary_volcano_type</th>\n",
              "      <th>last_eruption_year</th>\n",
              "      <th>country</th>\n",
              "      <th>region</th>\n",
              "      <th>subregion</th>\n",
              "      <th>latitude_y</th>\n",
              "      <th>longitude_y</th>\n",
              "      <th>elevation</th>\n",
              "      <th>evidence_category</th>\n",
              "      <th>crust_thickness</th>\n",
              "      <th>volcanism</th>\n",
              "      <th>crust</th>\n",
              "    </tr>\n",
              "  </thead>\n",
              "  <tbody>\n",
              "    <tr>\n",
              "      <th>4455</th>\n",
              "      <td>353060</td>\n",
              "      <td>Azul, Cerro</td>\n",
              "      <td>Confirmed Eruption</td>\n",
              "      <td>1.0</td>\n",
              "      <td>2008.0</td>\n",
              "      <td>5.0</td>\n",
              "      <td>29.0</td>\n",
              "      <td>Historical Observations</td>\n",
              "      <td>2008.0</td>\n",
              "      <td>6.0</td>\n",
              "      <td>17.0</td>\n",
              "      <td>-0.920</td>\n",
              "      <td>-91.408</td>\n",
              "      <td>Shield</td>\n",
              "      <td>2008</td>\n",
              "      <td>Ecuador</td>\n",
              "      <td>South America</td>\n",
              "      <td>Galapagos Islands</td>\n",
              "      <td>-0.920</td>\n",
              "      <td>-91.408</td>\n",
              "      <td>1640</td>\n",
              "      <td>Eruption Observed</td>\n",
              "      <td>&lt; 15 km</td>\n",
              "      <td>Rift zone</td>\n",
              "      <td>Oceanic crust</td>\n",
              "    </tr>\n",
              "    <tr>\n",
              "      <th>4456</th>\n",
              "      <td>353060</td>\n",
              "      <td>Azul, Cerro</td>\n",
              "      <td>Confirmed Eruption</td>\n",
              "      <td>1.0</td>\n",
              "      <td>1998.0</td>\n",
              "      <td>9.0</td>\n",
              "      <td>15.0</td>\n",
              "      <td>Historical Observations</td>\n",
              "      <td>1998.0</td>\n",
              "      <td>10.0</td>\n",
              "      <td>21.0</td>\n",
              "      <td>-0.920</td>\n",
              "      <td>-91.408</td>\n",
              "      <td>Shield</td>\n",
              "      <td>2008</td>\n",
              "      <td>Ecuador</td>\n",
              "      <td>South America</td>\n",
              "      <td>Galapagos Islands</td>\n",
              "      <td>-0.920</td>\n",
              "      <td>-91.408</td>\n",
              "      <td>1640</td>\n",
              "      <td>Eruption Observed</td>\n",
              "      <td>&lt; 15 km</td>\n",
              "      <td>Rift zone</td>\n",
              "      <td>Oceanic crust</td>\n",
              "    </tr>\n",
              "    <tr>\n",
              "      <th>4457</th>\n",
              "      <td>353060</td>\n",
              "      <td>Azul, Cerro</td>\n",
              "      <td>Confirmed Eruption</td>\n",
              "      <td>2.0</td>\n",
              "      <td>1979.0</td>\n",
              "      <td>1.0</td>\n",
              "      <td>29.0</td>\n",
              "      <td>Historical Observations</td>\n",
              "      <td>1979.0</td>\n",
              "      <td>3.0</td>\n",
              "      <td>4.0</td>\n",
              "      <td>-0.920</td>\n",
              "      <td>-91.408</td>\n",
              "      <td>Shield</td>\n",
              "      <td>2008</td>\n",
              "      <td>Ecuador</td>\n",
              "      <td>South America</td>\n",
              "      <td>Galapagos Islands</td>\n",
              "      <td>-0.920</td>\n",
              "      <td>-91.408</td>\n",
              "      <td>1640</td>\n",
              "      <td>Eruption Observed</td>\n",
              "      <td>&lt; 15 km</td>\n",
              "      <td>Rift zone</td>\n",
              "      <td>Oceanic crust</td>\n",
              "    </tr>\n",
              "    <tr>\n",
              "      <th>4458</th>\n",
              "      <td>353060</td>\n",
              "      <td>Azul, Cerro</td>\n",
              "      <td>Uncertain Eruption</td>\n",
              "      <td>NaN</td>\n",
              "      <td>1968.0</td>\n",
              "      <td>6.0</td>\n",
              "      <td>12.0</td>\n",
              "      <td>NaN</td>\n",
              "      <td>NaN</td>\n",
              "      <td>NaN</td>\n",
              "      <td>NaN</td>\n",
              "      <td>-0.920</td>\n",
              "      <td>-91.408</td>\n",
              "      <td>Shield</td>\n",
              "      <td>2008</td>\n",
              "      <td>Ecuador</td>\n",
              "      <td>South America</td>\n",
              "      <td>Galapagos Islands</td>\n",
              "      <td>-0.920</td>\n",
              "      <td>-91.408</td>\n",
              "      <td>1640</td>\n",
              "      <td>Eruption Observed</td>\n",
              "      <td>&lt; 15 km</td>\n",
              "      <td>Rift zone</td>\n",
              "      <td>Oceanic crust</td>\n",
              "    </tr>\n",
              "    <tr>\n",
              "      <th>4459</th>\n",
              "      <td>353060</td>\n",
              "      <td>Azul, Cerro</td>\n",
              "      <td>Confirmed Eruption</td>\n",
              "      <td>2.0</td>\n",
              "      <td>1959.0</td>\n",
              "      <td>6.0</td>\n",
              "      <td>29.0</td>\n",
              "      <td>Historical Observations</td>\n",
              "      <td>1959.0</td>\n",
              "      <td>7.0</td>\n",
              "      <td>31.0</td>\n",
              "      <td>-0.920</td>\n",
              "      <td>-91.408</td>\n",
              "      <td>Shield</td>\n",
              "      <td>2008</td>\n",
              "      <td>Ecuador</td>\n",
              "      <td>South America</td>\n",
              "      <td>Galapagos Islands</td>\n",
              "      <td>-0.920</td>\n",
              "      <td>-91.408</td>\n",
              "      <td>1640</td>\n",
              "      <td>Eruption Observed</td>\n",
              "      <td>&lt; 15 km</td>\n",
              "      <td>Rift zone</td>\n",
              "      <td>Oceanic crust</td>\n",
              "    </tr>\n",
              "    <tr>\n",
              "      <th>4460</th>\n",
              "      <td>353060</td>\n",
              "      <td>Azul, Cerro</td>\n",
              "      <td>Confirmed Eruption</td>\n",
              "      <td>NaN</td>\n",
              "      <td>1951.0</td>\n",
              "      <td>7.0</td>\n",
              "      <td>2.0</td>\n",
              "      <td>Historical Observations</td>\n",
              "      <td>NaN</td>\n",
              "      <td>NaN</td>\n",
              "      <td>NaN</td>\n",
              "      <td>-0.920</td>\n",
              "      <td>-91.408</td>\n",
              "      <td>Shield</td>\n",
              "      <td>2008</td>\n",
              "      <td>Ecuador</td>\n",
              "      <td>South America</td>\n",
              "      <td>Galapagos Islands</td>\n",
              "      <td>-0.920</td>\n",
              "      <td>-91.408</td>\n",
              "      <td>1640</td>\n",
              "      <td>Eruption Observed</td>\n",
              "      <td>&lt; 15 km</td>\n",
              "      <td>Rift zone</td>\n",
              "      <td>Oceanic crust</td>\n",
              "    </tr>\n",
              "    <tr>\n",
              "      <th>4461</th>\n",
              "      <td>353060</td>\n",
              "      <td>Azul, Cerro</td>\n",
              "      <td>Confirmed Eruption</td>\n",
              "      <td>0.0</td>\n",
              "      <td>1949.0</td>\n",
              "      <td>0.0</td>\n",
              "      <td>0.0</td>\n",
              "      <td>Historical Observations</td>\n",
              "      <td>NaN</td>\n",
              "      <td>NaN</td>\n",
              "      <td>NaN</td>\n",
              "      <td>-0.920</td>\n",
              "      <td>-91.408</td>\n",
              "      <td>Shield</td>\n",
              "      <td>2008</td>\n",
              "      <td>Ecuador</td>\n",
              "      <td>South America</td>\n",
              "      <td>Galapagos Islands</td>\n",
              "      <td>-0.920</td>\n",
              "      <td>-91.408</td>\n",
              "      <td>1640</td>\n",
              "      <td>Eruption Observed</td>\n",
              "      <td>&lt; 15 km</td>\n",
              "      <td>Rift zone</td>\n",
              "      <td>Oceanic crust</td>\n",
              "    </tr>\n",
              "    <tr>\n",
              "      <th>4462</th>\n",
              "      <td>353060</td>\n",
              "      <td>Azul, Cerro</td>\n",
              "      <td>Confirmed Eruption</td>\n",
              "      <td>0.0</td>\n",
              "      <td>1948.0</td>\n",
              "      <td>6.0</td>\n",
              "      <td>30.0</td>\n",
              "      <td>Historical Observations</td>\n",
              "      <td>NaN</td>\n",
              "      <td>NaN</td>\n",
              "      <td>NaN</td>\n",
              "      <td>-0.920</td>\n",
              "      <td>-91.408</td>\n",
              "      <td>Shield</td>\n",
              "      <td>2008</td>\n",
              "      <td>Ecuador</td>\n",
              "      <td>South America</td>\n",
              "      <td>Galapagos Islands</td>\n",
              "      <td>-0.920</td>\n",
              "      <td>-91.408</td>\n",
              "      <td>1640</td>\n",
              "      <td>Eruption Observed</td>\n",
              "      <td>&lt; 15 km</td>\n",
              "      <td>Rift zone</td>\n",
              "      <td>Oceanic crust</td>\n",
              "    </tr>\n",
              "    <tr>\n",
              "      <th>4463</th>\n",
              "      <td>353060</td>\n",
              "      <td>Azul, Cerro</td>\n",
              "      <td>Confirmed Eruption</td>\n",
              "      <td>3.0</td>\n",
              "      <td>1943.0</td>\n",
              "      <td>4.0</td>\n",
              "      <td>13.0</td>\n",
              "      <td>Historical Observations</td>\n",
              "      <td>1943.0</td>\n",
              "      <td>5.0</td>\n",
              "      <td>11.0</td>\n",
              "      <td>-0.920</td>\n",
              "      <td>-91.408</td>\n",
              "      <td>Shield</td>\n",
              "      <td>2008</td>\n",
              "      <td>Ecuador</td>\n",
              "      <td>South America</td>\n",
              "      <td>Galapagos Islands</td>\n",
              "      <td>-0.920</td>\n",
              "      <td>-91.408</td>\n",
              "      <td>1640</td>\n",
              "      <td>Eruption Observed</td>\n",
              "      <td>&lt; 15 km</td>\n",
              "      <td>Rift zone</td>\n",
              "      <td>Oceanic crust</td>\n",
              "    </tr>\n",
              "    <tr>\n",
              "      <th>4464</th>\n",
              "      <td>353060</td>\n",
              "      <td>Azul, Cerro</td>\n",
              "      <td>Confirmed Eruption</td>\n",
              "      <td>0.0</td>\n",
              "      <td>1940.0</td>\n",
              "      <td>0.0</td>\n",
              "      <td>0.0</td>\n",
              "      <td>Historical Observations</td>\n",
              "      <td>NaN</td>\n",
              "      <td>NaN</td>\n",
              "      <td>NaN</td>\n",
              "      <td>-0.920</td>\n",
              "      <td>-91.408</td>\n",
              "      <td>Shield</td>\n",
              "      <td>2008</td>\n",
              "      <td>Ecuador</td>\n",
              "      <td>South America</td>\n",
              "      <td>Galapagos Islands</td>\n",
              "      <td>-0.920</td>\n",
              "      <td>-91.408</td>\n",
              "      <td>1640</td>\n",
              "      <td>Eruption Observed</td>\n",
              "      <td>&lt; 15 km</td>\n",
              "      <td>Rift zone</td>\n",
              "      <td>Oceanic crust</td>\n",
              "    </tr>\n",
              "    <tr>\n",
              "      <th>4465</th>\n",
              "      <td>353060</td>\n",
              "      <td>Azul, Cerro</td>\n",
              "      <td>Confirmed Eruption</td>\n",
              "      <td>1.0</td>\n",
              "      <td>1932.0</td>\n",
              "      <td>0.0</td>\n",
              "      <td>0.0</td>\n",
              "      <td>Historical Observations</td>\n",
              "      <td>NaN</td>\n",
              "      <td>NaN</td>\n",
              "      <td>NaN</td>\n",
              "      <td>-0.920</td>\n",
              "      <td>-91.408</td>\n",
              "      <td>Shield</td>\n",
              "      <td>2008</td>\n",
              "      <td>Ecuador</td>\n",
              "      <td>South America</td>\n",
              "      <td>Galapagos Islands</td>\n",
              "      <td>-0.920</td>\n",
              "      <td>-91.408</td>\n",
              "      <td>1640</td>\n",
              "      <td>Eruption Observed</td>\n",
              "      <td>&lt; 15 km</td>\n",
              "      <td>Rift zone</td>\n",
              "      <td>Oceanic crust</td>\n",
              "    </tr>\n",
              "    <tr>\n",
              "      <th>4466</th>\n",
              "      <td>353060</td>\n",
              "      <td>Azul, Cerro</td>\n",
              "      <td>Confirmed Eruption</td>\n",
              "      <td>NaN</td>\n",
              "      <td>1850.0</td>\n",
              "      <td>0.0</td>\n",
              "      <td>0.0</td>\n",
              "      <td>Surface Exposure</td>\n",
              "      <td>NaN</td>\n",
              "      <td>NaN</td>\n",
              "      <td>NaN</td>\n",
              "      <td>-0.920</td>\n",
              "      <td>-91.408</td>\n",
              "      <td>Shield</td>\n",
              "      <td>2008</td>\n",
              "      <td>Ecuador</td>\n",
              "      <td>South America</td>\n",
              "      <td>Galapagos Islands</td>\n",
              "      <td>-0.920</td>\n",
              "      <td>-91.408</td>\n",
              "      <td>1640</td>\n",
              "      <td>Eruption Observed</td>\n",
              "      <td>&lt; 15 km</td>\n",
              "      <td>Rift zone</td>\n",
              "      <td>Oceanic crust</td>\n",
              "    </tr>\n",
              "    <tr>\n",
              "      <th>4467</th>\n",
              "      <td>353060</td>\n",
              "      <td>Azul, Cerro</td>\n",
              "      <td>Confirmed Eruption</td>\n",
              "      <td>0.0</td>\n",
              "      <td>1250.0</td>\n",
              "      <td>0.0</td>\n",
              "      <td>0.0</td>\n",
              "      <td>Surface Exposure</td>\n",
              "      <td>NaN</td>\n",
              "      <td>NaN</td>\n",
              "      <td>NaN</td>\n",
              "      <td>-0.920</td>\n",
              "      <td>-91.408</td>\n",
              "      <td>Shield</td>\n",
              "      <td>2008</td>\n",
              "      <td>Ecuador</td>\n",
              "      <td>South America</td>\n",
              "      <td>Galapagos Islands</td>\n",
              "      <td>-0.920</td>\n",
              "      <td>-91.408</td>\n",
              "      <td>1640</td>\n",
              "      <td>Eruption Observed</td>\n",
              "      <td>&lt; 15 km</td>\n",
              "      <td>Rift zone</td>\n",
              "      <td>Oceanic crust</td>\n",
              "    </tr>\n",
              "    <tr>\n",
              "      <th>4468</th>\n",
              "      <td>353060</td>\n",
              "      <td>Azul, Cerro</td>\n",
              "      <td>Confirmed Eruption</td>\n",
              "      <td>0.0</td>\n",
              "      <td>-550.0</td>\n",
              "      <td>0.0</td>\n",
              "      <td>0.0</td>\n",
              "      <td>Surface Exposure</td>\n",
              "      <td>NaN</td>\n",
              "      <td>NaN</td>\n",
              "      <td>NaN</td>\n",
              "      <td>-0.920</td>\n",
              "      <td>-91.408</td>\n",
              "      <td>Shield</td>\n",
              "      <td>2008</td>\n",
              "      <td>Ecuador</td>\n",
              "      <td>South America</td>\n",
              "      <td>Galapagos Islands</td>\n",
              "      <td>-0.920</td>\n",
              "      <td>-91.408</td>\n",
              "      <td>1640</td>\n",
              "      <td>Eruption Observed</td>\n",
              "      <td>&lt; 15 km</td>\n",
              "      <td>Rift zone</td>\n",
              "      <td>Oceanic crust</td>\n",
              "    </tr>\n",
              "    <tr>\n",
              "      <th>4469</th>\n",
              "      <td>353060</td>\n",
              "      <td>Azul, Cerro</td>\n",
              "      <td>Confirmed Eruption</td>\n",
              "      <td>0.0</td>\n",
              "      <td>-950.0</td>\n",
              "      <td>0.0</td>\n",
              "      <td>0.0</td>\n",
              "      <td>Surface Exposure</td>\n",
              "      <td>NaN</td>\n",
              "      <td>NaN</td>\n",
              "      <td>NaN</td>\n",
              "      <td>-0.920</td>\n",
              "      <td>-91.408</td>\n",
              "      <td>Shield</td>\n",
              "      <td>2008</td>\n",
              "      <td>Ecuador</td>\n",
              "      <td>South America</td>\n",
              "      <td>Galapagos Islands</td>\n",
              "      <td>-0.920</td>\n",
              "      <td>-91.408</td>\n",
              "      <td>1640</td>\n",
              "      <td>Eruption Observed</td>\n",
              "      <td>&lt; 15 km</td>\n",
              "      <td>Rift zone</td>\n",
              "      <td>Oceanic crust</td>\n",
              "    </tr>\n",
              "    <tr>\n",
              "      <th>7139</th>\n",
              "      <td>357060</td>\n",
              "      <td>Azul, Cerro</td>\n",
              "      <td>Confirmed Eruption</td>\n",
              "      <td>2.0</td>\n",
              "      <td>1967.0</td>\n",
              "      <td>8.0</td>\n",
              "      <td>9.0</td>\n",
              "      <td>Historical Observations</td>\n",
              "      <td>NaN</td>\n",
              "      <td>NaN</td>\n",
              "      <td>NaN</td>\n",
              "      <td>-35.653</td>\n",
              "      <td>-70.761</td>\n",
              "      <td>Stratovolcano</td>\n",
              "      <td>1967</td>\n",
              "      <td>Chile</td>\n",
              "      <td>South America</td>\n",
              "      <td>Central Chile and Argentina</td>\n",
              "      <td>-35.653</td>\n",
              "      <td>-70.761</td>\n",
              "      <td>3788</td>\n",
              "      <td>Eruption Observed</td>\n",
              "      <td>&gt;25 km</td>\n",
              "      <td>Subduction zone</td>\n",
              "      <td>Continental crust</td>\n",
              "    </tr>\n",
              "    <tr>\n",
              "      <th>7140</th>\n",
              "      <td>357060</td>\n",
              "      <td>Azul, Cerro</td>\n",
              "      <td>Confirmed Eruption</td>\n",
              "      <td>2.0</td>\n",
              "      <td>1949.0</td>\n",
              "      <td>4.0</td>\n",
              "      <td>15.0</td>\n",
              "      <td>Historical Observations</td>\n",
              "      <td>NaN</td>\n",
              "      <td>NaN</td>\n",
              "      <td>NaN</td>\n",
              "      <td>-35.653</td>\n",
              "      <td>-70.761</td>\n",
              "      <td>Stratovolcano</td>\n",
              "      <td>1967</td>\n",
              "      <td>Chile</td>\n",
              "      <td>South America</td>\n",
              "      <td>Central Chile and Argentina</td>\n",
              "      <td>-35.653</td>\n",
              "      <td>-70.761</td>\n",
              "      <td>3788</td>\n",
              "      <td>Eruption Observed</td>\n",
              "      <td>&gt;25 km</td>\n",
              "      <td>Subduction zone</td>\n",
              "      <td>Continental crust</td>\n",
              "    </tr>\n",
              "    <tr>\n",
              "      <th>7141</th>\n",
              "      <td>357060</td>\n",
              "      <td>Azul, Cerro</td>\n",
              "      <td>Confirmed Eruption</td>\n",
              "      <td>2.0</td>\n",
              "      <td>1933.0</td>\n",
              "      <td>0.0</td>\n",
              "      <td>0.0</td>\n",
              "      <td>Historical Observations</td>\n",
              "      <td>1938.0</td>\n",
              "      <td>7.0</td>\n",
              "      <td>25.0</td>\n",
              "      <td>-35.653</td>\n",
              "      <td>-70.761</td>\n",
              "      <td>Stratovolcano</td>\n",
              "      <td>1967</td>\n",
              "      <td>Chile</td>\n",
              "      <td>South America</td>\n",
              "      <td>Central Chile and Argentina</td>\n",
              "      <td>-35.653</td>\n",
              "      <td>-70.761</td>\n",
              "      <td>3788</td>\n",
              "      <td>Eruption Observed</td>\n",
              "      <td>&gt;25 km</td>\n",
              "      <td>Subduction zone</td>\n",
              "      <td>Continental crust</td>\n",
              "    </tr>\n",
              "    <tr>\n",
              "      <th>7142</th>\n",
              "      <td>357060</td>\n",
              "      <td>Azul, Cerro</td>\n",
              "      <td>Confirmed Eruption</td>\n",
              "      <td>5.0</td>\n",
              "      <td>1916.0</td>\n",
              "      <td>0.0</td>\n",
              "      <td>0.0</td>\n",
              "      <td>Historical Observations</td>\n",
              "      <td>1932.0</td>\n",
              "      <td>4.0</td>\n",
              "      <td>21.0</td>\n",
              "      <td>-35.653</td>\n",
              "      <td>-70.761</td>\n",
              "      <td>Stratovolcano</td>\n",
              "      <td>1967</td>\n",
              "      <td>Chile</td>\n",
              "      <td>South America</td>\n",
              "      <td>Central Chile and Argentina</td>\n",
              "      <td>-35.653</td>\n",
              "      <td>-70.761</td>\n",
              "      <td>3788</td>\n",
              "      <td>Eruption Observed</td>\n",
              "      <td>&gt;25 km</td>\n",
              "      <td>Subduction zone</td>\n",
              "      <td>Continental crust</td>\n",
              "    </tr>\n",
              "    <tr>\n",
              "      <th>7143</th>\n",
              "      <td>357060</td>\n",
              "      <td>Azul, Cerro</td>\n",
              "      <td>Confirmed Eruption</td>\n",
              "      <td>3.0</td>\n",
              "      <td>1914.0</td>\n",
              "      <td>9.0</td>\n",
              "      <td>8.0</td>\n",
              "      <td>Historical Observations</td>\n",
              "      <td>NaN</td>\n",
              "      <td>NaN</td>\n",
              "      <td>NaN</td>\n",
              "      <td>-35.653</td>\n",
              "      <td>-70.761</td>\n",
              "      <td>Stratovolcano</td>\n",
              "      <td>1967</td>\n",
              "      <td>Chile</td>\n",
              "      <td>South America</td>\n",
              "      <td>Central Chile and Argentina</td>\n",
              "      <td>-35.653</td>\n",
              "      <td>-70.761</td>\n",
              "      <td>3788</td>\n",
              "      <td>Eruption Observed</td>\n",
              "      <td>&gt;25 km</td>\n",
              "      <td>Subduction zone</td>\n",
              "      <td>Continental crust</td>\n",
              "    </tr>\n",
              "    <tr>\n",
              "      <th>7144</th>\n",
              "      <td>357060</td>\n",
              "      <td>Azul, Cerro</td>\n",
              "      <td>Uncertain Eruption</td>\n",
              "      <td>2.0</td>\n",
              "      <td>1913.0</td>\n",
              "      <td>1.0</td>\n",
              "      <td>15.0</td>\n",
              "      <td>NaN</td>\n",
              "      <td>NaN</td>\n",
              "      <td>NaN</td>\n",
              "      <td>NaN</td>\n",
              "      <td>-35.653</td>\n",
              "      <td>-70.761</td>\n",
              "      <td>Stratovolcano</td>\n",
              "      <td>1967</td>\n",
              "      <td>Chile</td>\n",
              "      <td>South America</td>\n",
              "      <td>Central Chile and Argentina</td>\n",
              "      <td>-35.653</td>\n",
              "      <td>-70.761</td>\n",
              "      <td>3788</td>\n",
              "      <td>Eruption Observed</td>\n",
              "      <td>&gt;25 km</td>\n",
              "      <td>Subduction zone</td>\n",
              "      <td>Continental crust</td>\n",
              "    </tr>\n",
              "    <tr>\n",
              "      <th>7145</th>\n",
              "      <td>357060</td>\n",
              "      <td>Azul, Cerro</td>\n",
              "      <td>Confirmed Eruption</td>\n",
              "      <td>2.0</td>\n",
              "      <td>1912.0</td>\n",
              "      <td>2.0</td>\n",
              "      <td>0.0</td>\n",
              "      <td>Historical Observations</td>\n",
              "      <td>NaN</td>\n",
              "      <td>NaN</td>\n",
              "      <td>NaN</td>\n",
              "      <td>-35.653</td>\n",
              "      <td>-70.761</td>\n",
              "      <td>Stratovolcano</td>\n",
              "      <td>1967</td>\n",
              "      <td>Chile</td>\n",
              "      <td>South America</td>\n",
              "      <td>Central Chile and Argentina</td>\n",
              "      <td>-35.653</td>\n",
              "      <td>-70.761</td>\n",
              "      <td>3788</td>\n",
              "      <td>Eruption Observed</td>\n",
              "      <td>&gt;25 km</td>\n",
              "      <td>Subduction zone</td>\n",
              "      <td>Continental crust</td>\n",
              "    </tr>\n",
              "    <tr>\n",
              "      <th>7146</th>\n",
              "      <td>357060</td>\n",
              "      <td>Azul, Cerro</td>\n",
              "      <td>Confirmed Eruption</td>\n",
              "      <td>2.0</td>\n",
              "      <td>1907.0</td>\n",
              "      <td>7.0</td>\n",
              "      <td>28.0</td>\n",
              "      <td>Historical Observations</td>\n",
              "      <td>NaN</td>\n",
              "      <td>NaN</td>\n",
              "      <td>NaN</td>\n",
              "      <td>-35.653</td>\n",
              "      <td>-70.761</td>\n",
              "      <td>Stratovolcano</td>\n",
              "      <td>1967</td>\n",
              "      <td>Chile</td>\n",
              "      <td>South America</td>\n",
              "      <td>Central Chile and Argentina</td>\n",
              "      <td>-35.653</td>\n",
              "      <td>-70.761</td>\n",
              "      <td>3788</td>\n",
              "      <td>Eruption Observed</td>\n",
              "      <td>&gt;25 km</td>\n",
              "      <td>Subduction zone</td>\n",
              "      <td>Continental crust</td>\n",
              "    </tr>\n",
              "    <tr>\n",
              "      <th>7147</th>\n",
              "      <td>357060</td>\n",
              "      <td>Azul, Cerro</td>\n",
              "      <td>Confirmed Eruption</td>\n",
              "      <td>2.0</td>\n",
              "      <td>1906.0</td>\n",
              "      <td>0.0</td>\n",
              "      <td>0.0</td>\n",
              "      <td>Historical Observations</td>\n",
              "      <td>NaN</td>\n",
              "      <td>NaN</td>\n",
              "      <td>NaN</td>\n",
              "      <td>-35.653</td>\n",
              "      <td>-70.761</td>\n",
              "      <td>Stratovolcano</td>\n",
              "      <td>1967</td>\n",
              "      <td>Chile</td>\n",
              "      <td>South America</td>\n",
              "      <td>Central Chile and Argentina</td>\n",
              "      <td>-35.653</td>\n",
              "      <td>-70.761</td>\n",
              "      <td>3788</td>\n",
              "      <td>Eruption Observed</td>\n",
              "      <td>&gt;25 km</td>\n",
              "      <td>Subduction zone</td>\n",
              "      <td>Continental crust</td>\n",
              "    </tr>\n",
              "    <tr>\n",
              "      <th>7148</th>\n",
              "      <td>357060</td>\n",
              "      <td>Azul, Cerro</td>\n",
              "      <td>Uncertain Eruption</td>\n",
              "      <td>2.0</td>\n",
              "      <td>1903.0</td>\n",
              "      <td>1.0</td>\n",
              "      <td>0.0</td>\n",
              "      <td>NaN</td>\n",
              "      <td>NaN</td>\n",
              "      <td>NaN</td>\n",
              "      <td>NaN</td>\n",
              "      <td>-35.653</td>\n",
              "      <td>-70.761</td>\n",
              "      <td>Stratovolcano</td>\n",
              "      <td>1967</td>\n",
              "      <td>Chile</td>\n",
              "      <td>South America</td>\n",
              "      <td>Central Chile and Argentina</td>\n",
              "      <td>-35.653</td>\n",
              "      <td>-70.761</td>\n",
              "      <td>3788</td>\n",
              "      <td>Eruption Observed</td>\n",
              "      <td>&gt;25 km</td>\n",
              "      <td>Subduction zone</td>\n",
              "      <td>Continental crust</td>\n",
              "    </tr>\n",
              "    <tr>\n",
              "      <th>7149</th>\n",
              "      <td>357060</td>\n",
              "      <td>Azul, Cerro</td>\n",
              "      <td>Confirmed Eruption</td>\n",
              "      <td>2.0</td>\n",
              "      <td>1846.0</td>\n",
              "      <td>11.0</td>\n",
              "      <td>26.0</td>\n",
              "      <td>Historical Observations</td>\n",
              "      <td>1853.0</td>\n",
              "      <td>0.0</td>\n",
              "      <td>0.0</td>\n",
              "      <td>-35.653</td>\n",
              "      <td>-70.761</td>\n",
              "      <td>Stratovolcano</td>\n",
              "      <td>1967</td>\n",
              "      <td>Chile</td>\n",
              "      <td>South America</td>\n",
              "      <td>Central Chile and Argentina</td>\n",
              "      <td>-35.653</td>\n",
              "      <td>-70.761</td>\n",
              "      <td>3788</td>\n",
              "      <td>Eruption Observed</td>\n",
              "      <td>&gt;25 km</td>\n",
              "      <td>Subduction zone</td>\n",
              "      <td>Continental crust</td>\n",
              "    </tr>\n",
              "    <tr>\n",
              "      <th>7771</th>\n",
              "      <td>261180</td>\n",
              "      <td>Sumbing</td>\n",
              "      <td>Confirmed Eruption</td>\n",
              "      <td>2.0</td>\n",
              "      <td>1921.0</td>\n",
              "      <td>5.0</td>\n",
              "      <td>23.0</td>\n",
              "      <td>Historical Observations</td>\n",
              "      <td>1921.0</td>\n",
              "      <td>6.0</td>\n",
              "      <td>3.0</td>\n",
              "      <td>-2.414</td>\n",
              "      <td>101.728</td>\n",
              "      <td>Stratovolcano</td>\n",
              "      <td>1921</td>\n",
              "      <td>Indonesia</td>\n",
              "      <td>Indonesia</td>\n",
              "      <td>Sumatra</td>\n",
              "      <td>-2.414</td>\n",
              "      <td>101.728</td>\n",
              "      <td>2507</td>\n",
              "      <td>Eruption Observed</td>\n",
              "      <td>&gt;25 km</td>\n",
              "      <td>Subduction zone</td>\n",
              "      <td>Continental crust</td>\n",
              "    </tr>\n",
              "    <tr>\n",
              "      <th>7772</th>\n",
              "      <td>261180</td>\n",
              "      <td>Sumbing</td>\n",
              "      <td>Confirmed Eruption</td>\n",
              "      <td>2.0</td>\n",
              "      <td>1909.0</td>\n",
              "      <td>6.0</td>\n",
              "      <td>3.0</td>\n",
              "      <td>Historical Observations</td>\n",
              "      <td>1909.0</td>\n",
              "      <td>7.0</td>\n",
              "      <td>0.0</td>\n",
              "      <td>-2.414</td>\n",
              "      <td>101.728</td>\n",
              "      <td>Stratovolcano</td>\n",
              "      <td>1921</td>\n",
              "      <td>Indonesia</td>\n",
              "      <td>Indonesia</td>\n",
              "      <td>Sumatra</td>\n",
              "      <td>-2.414</td>\n",
              "      <td>101.728</td>\n",
              "      <td>2507</td>\n",
              "      <td>Eruption Observed</td>\n",
              "      <td>&gt;25 km</td>\n",
              "      <td>Subduction zone</td>\n",
              "      <td>Continental crust</td>\n",
              "    </tr>\n",
              "    <tr>\n",
              "      <th>8680</th>\n",
              "      <td>263220</td>\n",
              "      <td>Sumbing</td>\n",
              "      <td>Confirmed Eruption</td>\n",
              "      <td>1.0</td>\n",
              "      <td>1730.0</td>\n",
              "      <td>0.0</td>\n",
              "      <td>0.0</td>\n",
              "      <td>Historical Observations</td>\n",
              "      <td>NaN</td>\n",
              "      <td>NaN</td>\n",
              "      <td>NaN</td>\n",
              "      <td>-7.384</td>\n",
              "      <td>110.070</td>\n",
              "      <td>Stratovolcano</td>\n",
              "      <td>1730</td>\n",
              "      <td>Indonesia</td>\n",
              "      <td>Indonesia</td>\n",
              "      <td>Java</td>\n",
              "      <td>-7.384</td>\n",
              "      <td>110.070</td>\n",
              "      <td>3371</td>\n",
              "      <td>Eruption Observed</td>\n",
              "      <td>&gt;25 km</td>\n",
              "      <td>Subduction zone</td>\n",
              "      <td>Continental crust</td>\n",
              "    </tr>\n",
              "  </tbody>\n",
              "</table>\n",
              "</div>"
            ],
            "text/plain": [
              "      volcano_number volcano_name  ...         volcanism                crust\n",
              "4455          353060  Azul, Cerro  ...        Rift zone        Oceanic crust \n",
              "4456          353060  Azul, Cerro  ...        Rift zone        Oceanic crust \n",
              "4457          353060  Azul, Cerro  ...        Rift zone        Oceanic crust \n",
              "4458          353060  Azul, Cerro  ...        Rift zone        Oceanic crust \n",
              "4459          353060  Azul, Cerro  ...        Rift zone        Oceanic crust \n",
              "4460          353060  Azul, Cerro  ...        Rift zone        Oceanic crust \n",
              "4461          353060  Azul, Cerro  ...        Rift zone        Oceanic crust \n",
              "4462          353060  Azul, Cerro  ...        Rift zone        Oceanic crust \n",
              "4463          353060  Azul, Cerro  ...        Rift zone        Oceanic crust \n",
              "4464          353060  Azul, Cerro  ...        Rift zone        Oceanic crust \n",
              "4465          353060  Azul, Cerro  ...        Rift zone        Oceanic crust \n",
              "4466          353060  Azul, Cerro  ...        Rift zone        Oceanic crust \n",
              "4467          353060  Azul, Cerro  ...        Rift zone        Oceanic crust \n",
              "4468          353060  Azul, Cerro  ...        Rift zone        Oceanic crust \n",
              "4469          353060  Azul, Cerro  ...        Rift zone        Oceanic crust \n",
              "7139          357060  Azul, Cerro  ...  Subduction zone    Continental crust \n",
              "7140          357060  Azul, Cerro  ...  Subduction zone    Continental crust \n",
              "7141          357060  Azul, Cerro  ...  Subduction zone    Continental crust \n",
              "7142          357060  Azul, Cerro  ...  Subduction zone    Continental crust \n",
              "7143          357060  Azul, Cerro  ...  Subduction zone    Continental crust \n",
              "7144          357060  Azul, Cerro  ...  Subduction zone    Continental crust \n",
              "7145          357060  Azul, Cerro  ...  Subduction zone    Continental crust \n",
              "7146          357060  Azul, Cerro  ...  Subduction zone    Continental crust \n",
              "7147          357060  Azul, Cerro  ...  Subduction zone    Continental crust \n",
              "7148          357060  Azul, Cerro  ...  Subduction zone    Continental crust \n",
              "7149          357060  Azul, Cerro  ...  Subduction zone    Continental crust \n",
              "7771          261180      Sumbing  ...  Subduction zone    Continental crust \n",
              "7772          261180      Sumbing  ...  Subduction zone    Continental crust \n",
              "8680          263220      Sumbing  ...  Subduction zone    Continental crust \n",
              "\n",
              "[29 rows x 25 columns]"
            ]
          },
          "metadata": {
            "tags": []
          },
          "execution_count": 79
        }
      ]
    },
    {
      "cell_type": "markdown",
      "metadata": {
        "id": "u9OvF3yjjhNR"
      },
      "source": [
        "It is clear that Azul, Cerro has two numbers."
      ]
    },
    {
      "cell_type": "markdown",
      "metadata": {
        "id": "R_-sWF9pe9Y5"
      },
      "source": [
        "I would ensure to group by name instead of number in all aggregations."
      ]
    },
    {
      "cell_type": "markdown",
      "metadata": {
        "id": "DlaTokf0it34"
      },
      "source": [
        "######How many volcanoes are in each erupted category?"
      ]
    },
    {
      "cell_type": "code",
      "metadata": {
        "colab": {
          "base_uri": "https://localhost:8080/"
        },
        "id": "maj8_fSfj1-j",
        "outputId": "71aea492-7d67-40e6-81db-79adf684d528"
      },
      "source": [
        "new_df.drop_duplicates(subset=['volcano_name'], keep='last').groupby(['eruption_category'])['volcano_name'].count()"
      ],
      "execution_count": null,
      "outputs": [
        {
          "output_type": "execute_result",
          "data": {
            "text/plain": [
              "eruption_category\n",
              "Confirmed Eruption      626\n",
              "Discredited Eruption      8\n",
              "Uncertain Eruption       53\n",
              "Name: volcano_name, dtype: int64"
            ]
          },
          "metadata": {
            "tags": []
          },
          "execution_count": 80
        }
      ]
    },
    {
      "cell_type": "markdown",
      "metadata": {
        "id": "IV9bHXVdp9en"
      },
      "source": [
        "There are 626 volcanoes with confirmed eruptions"
      ]
    },
    {
      "cell_type": "markdown",
      "metadata": {
        "id": "Q7b-B3VVU1sg"
      },
      "source": [
        "#####***Focus on Confirmed Eruptions of eruption_category in Eruptions Only***"
      ]
    },
    {
      "cell_type": "code",
      "metadata": {
        "id": "btd1Xzw4tR9i"
      },
      "source": [
        "#create data\n",
        "confirmed_eruptions = new_df[new_df['eruption_category']=='Confirmed Eruption']"
      ],
      "execution_count": null,
      "outputs": []
    },
    {
      "cell_type": "markdown",
      "metadata": {
        "id": "VuhYC53kv-oz"
      },
      "source": [
        "#####Data Exploration"
      ]
    },
    {
      "cell_type": "code",
      "metadata": {
        "colab": {
          "base_uri": "https://localhost:8080/"
        },
        "id": "lOkU7K2rwBGw",
        "outputId": "b5ec0a06-e247-4064-84f4-09e447abb8fa"
      },
      "source": [
        "confirmed_eruptions.info()"
      ],
      "execution_count": null,
      "outputs": [
        {
          "output_type": "stream",
          "text": [
            "<class 'pandas.core.frame.DataFrame'>\n",
            "Int64Index: 8556 entries, 0 to 9558\n",
            "Data columns (total 25 columns):\n",
            " #   Column                  Non-Null Count  Dtype  \n",
            "---  ------                  --------------  -----  \n",
            " 0   volcano_number          8556 non-null   int64  \n",
            " 1   volcano_name            8556 non-null   object \n",
            " 2   eruption_category       8556 non-null   object \n",
            " 3   vei                     6682 non-null   float64\n",
            " 4   start_year              8555 non-null   float64\n",
            " 5   start_month             8387 non-null   float64\n",
            " 6   start_day               8386 non-null   float64\n",
            " 7   evidence_method_dating  8514 non-null   object \n",
            " 8   end_year                3460 non-null   float64\n",
            " 9   end_month               3458 non-null   float64\n",
            " 10  end_day                 3457 non-null   float64\n",
            " 11  latitude_x              8556 non-null   float64\n",
            " 12  longitude_x             8556 non-null   float64\n",
            " 13  primary_volcano_type    8556 non-null   object \n",
            " 14  last_eruption_year      8556 non-null   object \n",
            " 15  country                 8556 non-null   object \n",
            " 16  region                  8556 non-null   object \n",
            " 17  subregion               8556 non-null   object \n",
            " 18  latitude_y              8556 non-null   float64\n",
            " 19  longitude_y             8556 non-null   float64\n",
            " 20  elevation               8556 non-null   int64  \n",
            " 21  evidence_category       8556 non-null   object \n",
            " 22  crust_thickness         8282 non-null   object \n",
            " 23  volcanism               8556 non-null   object \n",
            " 24  crust                   8556 non-null   object \n",
            "dtypes: float64(11), int64(2), object(12)\n",
            "memory usage: 1.7+ MB\n"
          ],
          "name": "stdout"
        }
      ]
    },
    {
      "cell_type": "code",
      "metadata": {
        "colab": {
          "base_uri": "https://localhost:8080/",
          "height": 297
        },
        "id": "Tve_4kTORQlJ",
        "outputId": "da96b4d2-2a7d-41ea-9d61-6eed5c2e834d"
      },
      "source": [
        "confirmed_eruptions.describe()"
      ],
      "execution_count": null,
      "outputs": [
        {
          "output_type": "execute_result",
          "data": {
            "text/html": [
              "<div>\n",
              "<style scoped>\n",
              "    .dataframe tbody tr th:only-of-type {\n",
              "        vertical-align: middle;\n",
              "    }\n",
              "\n",
              "    .dataframe tbody tr th {\n",
              "        vertical-align: top;\n",
              "    }\n",
              "\n",
              "    .dataframe thead th {\n",
              "        text-align: right;\n",
              "    }\n",
              "</style>\n",
              "<table border=\"1\" class=\"dataframe\">\n",
              "  <thead>\n",
              "    <tr style=\"text-align: right;\">\n",
              "      <th></th>\n",
              "      <th>volcano_number</th>\n",
              "      <th>vei</th>\n",
              "      <th>start_year</th>\n",
              "      <th>start_month</th>\n",
              "      <th>start_day</th>\n",
              "      <th>end_year</th>\n",
              "      <th>end_month</th>\n",
              "      <th>end_day</th>\n",
              "      <th>latitude_x</th>\n",
              "      <th>longitude_x</th>\n",
              "      <th>latitude_y</th>\n",
              "      <th>longitude_y</th>\n",
              "      <th>elevation</th>\n",
              "    </tr>\n",
              "  </thead>\n",
              "  <tbody>\n",
              "    <tr>\n",
              "      <th>count</th>\n",
              "      <td>8556.000000</td>\n",
              "      <td>6682.000000</td>\n",
              "      <td>8555.000000</td>\n",
              "      <td>8387.000000</td>\n",
              "      <td>8386.000000</td>\n",
              "      <td>3460.000000</td>\n",
              "      <td>3458.000000</td>\n",
              "      <td>3457.000000</td>\n",
              "      <td>8556.000000</td>\n",
              "      <td>8556.000000</td>\n",
              "      <td>8556.000000</td>\n",
              "      <td>8556.000000</td>\n",
              "      <td>8556.000000</td>\n",
              "    </tr>\n",
              "    <tr>\n",
              "      <th>mean</th>\n",
              "      <td>297867.157784</td>\n",
              "      <td>2.035319</td>\n",
              "      <td>496.460432</td>\n",
              "      <td>3.416836</td>\n",
              "      <td>7.053542</td>\n",
              "      <td>1911.127746</td>\n",
              "      <td>6.244072</td>\n",
              "      <td>13.187156</td>\n",
              "      <td>17.089422</td>\n",
              "      <td>36.981990</td>\n",
              "      <td>17.089422</td>\n",
              "      <td>36.981990</td>\n",
              "      <td>2216.107059</td>\n",
              "    </tr>\n",
              "    <tr>\n",
              "      <th>std</th>\n",
              "      <td>47186.576335</td>\n",
              "      <td>1.144915</td>\n",
              "      <td>2554.515715</td>\n",
              "      <td>4.075409</td>\n",
              "      <td>9.708433</td>\n",
              "      <td>166.103170</td>\n",
              "      <td>3.685103</td>\n",
              "      <td>9.856874</td>\n",
              "      <td>31.026647</td>\n",
              "      <td>111.864839</td>\n",
              "      <td>31.026647</td>\n",
              "      <td>111.864839</td>\n",
              "      <td>1318.009372</td>\n",
              "    </tr>\n",
              "    <tr>\n",
              "      <th>min</th>\n",
              "      <td>210010.000000</td>\n",
              "      <td>0.000000</td>\n",
              "      <td>-11345.000000</td>\n",
              "      <td>0.000000</td>\n",
              "      <td>0.000000</td>\n",
              "      <td>-475.000000</td>\n",
              "      <td>0.000000</td>\n",
              "      <td>0.000000</td>\n",
              "      <td>-77.530000</td>\n",
              "      <td>-179.970000</td>\n",
              "      <td>-77.530000</td>\n",
              "      <td>-179.970000</td>\n",
              "      <td>-2500.000000</td>\n",
              "    </tr>\n",
              "    <tr>\n",
              "      <th>25%</th>\n",
              "      <td>263280.000000</td>\n",
              "      <td>1.000000</td>\n",
              "      <td>215.000000</td>\n",
              "      <td>0.000000</td>\n",
              "      <td>0.000000</td>\n",
              "      <td>1892.000000</td>\n",
              "      <td>3.000000</td>\n",
              "      <td>3.000000</td>\n",
              "      <td>-6.645000</td>\n",
              "      <td>-72.117000</td>\n",
              "      <td>-6.645000</td>\n",
              "      <td>-72.117000</td>\n",
              "      <td>1303.000000</td>\n",
              "    </tr>\n",
              "    <tr>\n",
              "      <th>50%</th>\n",
              "      <td>285040.000000</td>\n",
              "      <td>2.000000</td>\n",
              "      <td>1827.000000</td>\n",
              "      <td>1.000000</td>\n",
              "      <td>0.000000</td>\n",
              "      <td>1952.000000</td>\n",
              "      <td>6.000000</td>\n",
              "      <td>14.000000</td>\n",
              "      <td>19.421000</td>\n",
              "      <td>55.708000</td>\n",
              "      <td>19.421000</td>\n",
              "      <td>55.708000</td>\n",
              "      <td>1974.000000</td>\n",
              "    </tr>\n",
              "    <tr>\n",
              "      <th>75%</th>\n",
              "      <td>343020.000000</td>\n",
              "      <td>2.000000</td>\n",
              "      <td>1945.000000</td>\n",
              "      <td>7.000000</td>\n",
              "      <td>15.000000</td>\n",
              "      <td>1989.000000</td>\n",
              "      <td>9.000000</td>\n",
              "      <td>21.000000</td>\n",
              "      <td>40.730000</td>\n",
              "      <td>139.182250</td>\n",
              "      <td>40.730000</td>\n",
              "      <td>139.182250</td>\n",
              "      <td>2962.000000</td>\n",
              "    </tr>\n",
              "    <tr>\n",
              "      <th>max</th>\n",
              "      <td>390140.000000</td>\n",
              "      <td>7.000000</td>\n",
              "      <td>2020.000000</td>\n",
              "      <td>12.000000</td>\n",
              "      <td>31.000000</td>\n",
              "      <td>2020.000000</td>\n",
              "      <td>12.000000</td>\n",
              "      <td>31.000000</td>\n",
              "      <td>71.082000</td>\n",
              "      <td>179.580000</td>\n",
              "      <td>71.082000</td>\n",
              "      <td>179.580000</td>\n",
              "      <td>6879.000000</td>\n",
              "    </tr>\n",
              "  </tbody>\n",
              "</table>\n",
              "</div>"
            ],
            "text/plain": [
              "       volcano_number          vei  ...  longitude_y    elevation\n",
              "count     8556.000000  6682.000000  ...  8556.000000  8556.000000\n",
              "mean    297867.157784     2.035319  ...    36.981990  2216.107059\n",
              "std      47186.576335     1.144915  ...   111.864839  1318.009372\n",
              "min     210010.000000     0.000000  ...  -179.970000 -2500.000000\n",
              "25%     263280.000000     1.000000  ...   -72.117000  1303.000000\n",
              "50%     285040.000000     2.000000  ...    55.708000  1974.000000\n",
              "75%     343020.000000     2.000000  ...   139.182250  2962.000000\n",
              "max     390140.000000     7.000000  ...   179.580000  6879.000000\n",
              "\n",
              "[8 rows x 13 columns]"
            ]
          },
          "metadata": {
            "tags": []
          },
          "execution_count": 112
        }
      ]
    },
    {
      "cell_type": "markdown",
      "metadata": {
        "id": "e1JZIqmCRT_1"
      },
      "source": [
        "The latest volcanic eruption was in 2020, on the 31st of December.<br/>\n",
        "The shortest volcano is below sea level at -2500. the highest is about 6879 metres above sea level.<br/>\n",
        "The earliest volcano erupted in yr -11345 BCE."
      ]
    },
    {
      "cell_type": "markdown",
      "metadata": {
        "id": "tgP4gg1IV-xv"
      },
      "source": [
        "#####Investigate Months showing zero"
      ]
    },
    {
      "cell_type": "code",
      "metadata": {
        "colab": {
          "base_uri": "https://localhost:8080/",
          "height": 728
        },
        "id": "QhbJ5DW_WEA2",
        "outputId": "cce68514-5da2-46df-ec7e-bd2ef8e93530"
      },
      "source": [
        "confirmed_eruptions[confirmed_eruptions['start_month']==0]"
      ],
      "execution_count": null,
      "outputs": [
        {
          "output_type": "execute_result",
          "data": {
            "text/html": [
              "<div>\n",
              "<style scoped>\n",
              "    .dataframe tbody tr th:only-of-type {\n",
              "        vertical-align: middle;\n",
              "    }\n",
              "\n",
              "    .dataframe tbody tr th {\n",
              "        vertical-align: top;\n",
              "    }\n",
              "\n",
              "    .dataframe thead th {\n",
              "        text-align: right;\n",
              "    }\n",
              "</style>\n",
              "<table border=\"1\" class=\"dataframe\">\n",
              "  <thead>\n",
              "    <tr style=\"text-align: right;\">\n",
              "      <th></th>\n",
              "      <th>volcano_number</th>\n",
              "      <th>volcano_name</th>\n",
              "      <th>eruption_category</th>\n",
              "      <th>vei</th>\n",
              "      <th>start_year</th>\n",
              "      <th>start_month</th>\n",
              "      <th>start_day</th>\n",
              "      <th>evidence_method_dating</th>\n",
              "      <th>end_year</th>\n",
              "      <th>end_month</th>\n",
              "      <th>end_day</th>\n",
              "      <th>latitude_x</th>\n",
              "      <th>longitude_x</th>\n",
              "      <th>primary_volcano_type</th>\n",
              "      <th>last_eruption_year</th>\n",
              "      <th>country</th>\n",
              "      <th>region</th>\n",
              "      <th>subregion</th>\n",
              "      <th>latitude_y</th>\n",
              "      <th>longitude_y</th>\n",
              "      <th>elevation</th>\n",
              "      <th>evidence_category</th>\n",
              "      <th>crust_thickness</th>\n",
              "      <th>volcanism</th>\n",
              "      <th>crust</th>\n",
              "    </tr>\n",
              "  </thead>\n",
              "  <tbody>\n",
              "    <tr>\n",
              "      <th>35</th>\n",
              "      <td>266030</td>\n",
              "      <td>Soputan</td>\n",
              "      <td>Confirmed Eruption</td>\n",
              "      <td>2.0</td>\n",
              "      <td>1890.0</td>\n",
              "      <td>0.0</td>\n",
              "      <td>0.0</td>\n",
              "      <td>Historical Observations</td>\n",
              "      <td>NaN</td>\n",
              "      <td>NaN</td>\n",
              "      <td>NaN</td>\n",
              "      <td>1.112</td>\n",
              "      <td>124.737</td>\n",
              "      <td>Stratovolcano</td>\n",
              "      <td>2020</td>\n",
              "      <td>Indonesia</td>\n",
              "      <td>Indonesia</td>\n",
              "      <td>Sulawesi</td>\n",
              "      <td>1.112</td>\n",
              "      <td>124.737</td>\n",
              "      <td>1785</td>\n",
              "      <td>Eruption Observed</td>\n",
              "      <td>&gt;25 km</td>\n",
              "      <td>Subduction zone</td>\n",
              "      <td>Continental crust</td>\n",
              "    </tr>\n",
              "    <tr>\n",
              "      <th>37</th>\n",
              "      <td>266030</td>\n",
              "      <td>Soputan</td>\n",
              "      <td>Confirmed Eruption</td>\n",
              "      <td>2.0</td>\n",
              "      <td>1833.0</td>\n",
              "      <td>0.0</td>\n",
              "      <td>0.0</td>\n",
              "      <td>Historical Observations</td>\n",
              "      <td>NaN</td>\n",
              "      <td>NaN</td>\n",
              "      <td>NaN</td>\n",
              "      <td>1.112</td>\n",
              "      <td>124.737</td>\n",
              "      <td>Stratovolcano</td>\n",
              "      <td>2020</td>\n",
              "      <td>Indonesia</td>\n",
              "      <td>Indonesia</td>\n",
              "      <td>Sulawesi</td>\n",
              "      <td>1.112</td>\n",
              "      <td>124.737</td>\n",
              "      <td>1785</td>\n",
              "      <td>Eruption Observed</td>\n",
              "      <td>&gt;25 km</td>\n",
              "      <td>Subduction zone</td>\n",
              "      <td>Continental crust</td>\n",
              "    </tr>\n",
              "    <tr>\n",
              "      <th>38</th>\n",
              "      <td>266030</td>\n",
              "      <td>Soputan</td>\n",
              "      <td>Confirmed Eruption</td>\n",
              "      <td>2.0</td>\n",
              "      <td>1819.0</td>\n",
              "      <td>0.0</td>\n",
              "      <td>0.0</td>\n",
              "      <td>Historical Observations</td>\n",
              "      <td>NaN</td>\n",
              "      <td>NaN</td>\n",
              "      <td>NaN</td>\n",
              "      <td>1.112</td>\n",
              "      <td>124.737</td>\n",
              "      <td>Stratovolcano</td>\n",
              "      <td>2020</td>\n",
              "      <td>Indonesia</td>\n",
              "      <td>Indonesia</td>\n",
              "      <td>Sulawesi</td>\n",
              "      <td>1.112</td>\n",
              "      <td>124.737</td>\n",
              "      <td>1785</td>\n",
              "      <td>Eruption Observed</td>\n",
              "      <td>&gt;25 km</td>\n",
              "      <td>Subduction zone</td>\n",
              "      <td>Continental crust</td>\n",
              "    </tr>\n",
              "    <tr>\n",
              "      <th>40</th>\n",
              "      <td>266030</td>\n",
              "      <td>Soputan</td>\n",
              "      <td>Confirmed Eruption</td>\n",
              "      <td>3.0</td>\n",
              "      <td>1450.0</td>\n",
              "      <td>0.0</td>\n",
              "      <td>0.0</td>\n",
              "      <td>Historical Observations</td>\n",
              "      <td>NaN</td>\n",
              "      <td>NaN</td>\n",
              "      <td>NaN</td>\n",
              "      <td>1.112</td>\n",
              "      <td>124.737</td>\n",
              "      <td>Stratovolcano</td>\n",
              "      <td>2020</td>\n",
              "      <td>Indonesia</td>\n",
              "      <td>Indonesia</td>\n",
              "      <td>Sulawesi</td>\n",
              "      <td>1.112</td>\n",
              "      <td>124.737</td>\n",
              "      <td>1785</td>\n",
              "      <td>Eruption Observed</td>\n",
              "      <td>&gt;25 km</td>\n",
              "      <td>Subduction zone</td>\n",
              "      <td>Continental crust</td>\n",
              "    </tr>\n",
              "    <tr>\n",
              "      <th>99</th>\n",
              "      <td>233020</td>\n",
              "      <td>Fournaise, Piton de la</td>\n",
              "      <td>Confirmed Eruption</td>\n",
              "      <td>2.0</td>\n",
              "      <td>1947.0</td>\n",
              "      <td>0.0</td>\n",
              "      <td>0.0</td>\n",
              "      <td>Historical Observations</td>\n",
              "      <td>NaN</td>\n",
              "      <td>NaN</td>\n",
              "      <td>NaN</td>\n",
              "      <td>-21.244</td>\n",
              "      <td>55.708</td>\n",
              "      <td>Shield</td>\n",
              "      <td>2020</td>\n",
              "      <td>France</td>\n",
              "      <td>Middle East and Indian Ocean</td>\n",
              "      <td>Indian Ocean (western)</td>\n",
              "      <td>-21.244</td>\n",
              "      <td>55.708</td>\n",
              "      <td>2632</td>\n",
              "      <td>Eruption Observed</td>\n",
              "      <td>&lt; 15 km</td>\n",
              "      <td>Intraplate</td>\n",
              "      <td>Oceanic crust</td>\n",
              "    </tr>\n",
              "    <tr>\n",
              "      <th>...</th>\n",
              "      <td>...</td>\n",
              "      <td>...</td>\n",
              "      <td>...</td>\n",
              "      <td>...</td>\n",
              "      <td>...</td>\n",
              "      <td>...</td>\n",
              "      <td>...</td>\n",
              "      <td>...</td>\n",
              "      <td>...</td>\n",
              "      <td>...</td>\n",
              "      <td>...</td>\n",
              "      <td>...</td>\n",
              "      <td>...</td>\n",
              "      <td>...</td>\n",
              "      <td>...</td>\n",
              "      <td>...</td>\n",
              "      <td>...</td>\n",
              "      <td>...</td>\n",
              "      <td>...</td>\n",
              "      <td>...</td>\n",
              "      <td>...</td>\n",
              "      <td>...</td>\n",
              "      <td>...</td>\n",
              "      <td>...</td>\n",
              "      <td>...</td>\n",
              "    </tr>\n",
              "    <tr>\n",
              "      <th>9550</th>\n",
              "      <td>210010</td>\n",
              "      <td>West Eifel Volcanic Field</td>\n",
              "      <td>Confirmed Eruption</td>\n",
              "      <td>NaN</td>\n",
              "      <td>-8300.0</td>\n",
              "      <td>0.0</td>\n",
              "      <td>0.0</td>\n",
              "      <td>Radiocarbon (uncorrected)</td>\n",
              "      <td>NaN</td>\n",
              "      <td>NaN</td>\n",
              "      <td>NaN</td>\n",
              "      <td>50.170</td>\n",
              "      <td>6.850</td>\n",
              "      <td>Maar(s)</td>\n",
              "      <td>-8300</td>\n",
              "      <td>Germany</td>\n",
              "      <td>Mediterranean and Western Asia</td>\n",
              "      <td>Western Europe</td>\n",
              "      <td>50.170</td>\n",
              "      <td>6.850</td>\n",
              "      <td>600</td>\n",
              "      <td>Eruption Dated</td>\n",
              "      <td>&gt;25 km</td>\n",
              "      <td>Rift zone</td>\n",
              "      <td>Continental crust</td>\n",
              "    </tr>\n",
              "    <tr>\n",
              "      <th>9551</th>\n",
              "      <td>210010</td>\n",
              "      <td>West Eifel Volcanic Field</td>\n",
              "      <td>Confirmed Eruption</td>\n",
              "      <td>NaN</td>\n",
              "      <td>-8740.0</td>\n",
              "      <td>0.0</td>\n",
              "      <td>0.0</td>\n",
              "      <td>Radiocarbon (corrected)</td>\n",
              "      <td>NaN</td>\n",
              "      <td>NaN</td>\n",
              "      <td>NaN</td>\n",
              "      <td>50.170</td>\n",
              "      <td>6.850</td>\n",
              "      <td>Maar(s)</td>\n",
              "      <td>-8300</td>\n",
              "      <td>Germany</td>\n",
              "      <td>Mediterranean and Western Asia</td>\n",
              "      <td>Western Europe</td>\n",
              "      <td>50.170</td>\n",
              "      <td>6.850</td>\n",
              "      <td>600</td>\n",
              "      <td>Eruption Dated</td>\n",
              "      <td>&gt;25 km</td>\n",
              "      <td>Rift zone</td>\n",
              "      <td>Continental crust</td>\n",
              "    </tr>\n",
              "    <tr>\n",
              "      <th>9552</th>\n",
              "      <td>390022</td>\n",
              "      <td>Berlin</td>\n",
              "      <td>Confirmed Eruption</td>\n",
              "      <td>0.0</td>\n",
              "      <td>-8350.0</td>\n",
              "      <td>0.0</td>\n",
              "      <td>0.0</td>\n",
              "      <td>Ar/Ar</td>\n",
              "      <td>NaN</td>\n",
              "      <td>NaN</td>\n",
              "      <td>NaN</td>\n",
              "      <td>-76.050</td>\n",
              "      <td>-136.000</td>\n",
              "      <td>Shield(s)</td>\n",
              "      <td>-8350</td>\n",
              "      <td>Antarctica</td>\n",
              "      <td>Antarctica</td>\n",
              "      <td>Antarctica and South Sandwich Islands</td>\n",
              "      <td>-76.050</td>\n",
              "      <td>-136.000</td>\n",
              "      <td>3478</td>\n",
              "      <td>Eruption Dated</td>\n",
              "      <td>&gt;25 km</td>\n",
              "      <td>Intraplate</td>\n",
              "      <td>Continental crust</td>\n",
              "    </tr>\n",
              "    <tr>\n",
              "      <th>9553</th>\n",
              "      <td>324010</td>\n",
              "      <td>Black Butte Crater Lava Field</td>\n",
              "      <td>Confirmed Eruption</td>\n",
              "      <td>0.0</td>\n",
              "      <td>-8400.0</td>\n",
              "      <td>0.0</td>\n",
              "      <td>0.0</td>\n",
              "      <td>Radiocarbon (uncorrected)</td>\n",
              "      <td>NaN</td>\n",
              "      <td>NaN</td>\n",
              "      <td>NaN</td>\n",
              "      <td>43.183</td>\n",
              "      <td>-114.352</td>\n",
              "      <td>Shield</td>\n",
              "      <td>-8400</td>\n",
              "      <td>United States</td>\n",
              "      <td>Canada and Western USA</td>\n",
              "      <td>USA (Idaho)</td>\n",
              "      <td>43.183</td>\n",
              "      <td>-114.352</td>\n",
              "      <td>1478</td>\n",
              "      <td>Eruption Dated</td>\n",
              "      <td>&gt;25 km</td>\n",
              "      <td>Rift zone</td>\n",
              "      <td>Continental crust</td>\n",
              "    </tr>\n",
              "    <tr>\n",
              "      <th>9557</th>\n",
              "      <td>283141</td>\n",
              "      <td>Nantaisan</td>\n",
              "      <td>Confirmed Eruption</td>\n",
              "      <td>NaN</td>\n",
              "      <td>-9540.0</td>\n",
              "      <td>0.0</td>\n",
              "      <td>0.0</td>\n",
              "      <td>Radiocarbon (corrected)</td>\n",
              "      <td>NaN</td>\n",
              "      <td>NaN</td>\n",
              "      <td>NaN</td>\n",
              "      <td>36.765</td>\n",
              "      <td>139.491</td>\n",
              "      <td>Stratovolcano</td>\n",
              "      <td>-9540</td>\n",
              "      <td>Japan</td>\n",
              "      <td>Japan, Taiwan, Marianas</td>\n",
              "      <td>Honshu</td>\n",
              "      <td>36.765</td>\n",
              "      <td>139.491</td>\n",
              "      <td>2486</td>\n",
              "      <td>Eruption Dated</td>\n",
              "      <td>&gt;25 km</td>\n",
              "      <td>Subduction zone</td>\n",
              "      <td>Continental crust</td>\n",
              "    </tr>\n",
              "  </tbody>\n",
              "</table>\n",
              "<p>3882 rows × 25 columns</p>\n",
              "</div>"
            ],
            "text/plain": [
              "      volcano_number  ...                crust\n",
              "35            266030  ...   Continental crust \n",
              "37            266030  ...   Continental crust \n",
              "38            266030  ...   Continental crust \n",
              "40            266030  ...   Continental crust \n",
              "99            233020  ...       Oceanic crust \n",
              "...              ...  ...                  ...\n",
              "9550          210010  ...   Continental crust \n",
              "9551          210010  ...   Continental crust \n",
              "9552          390022  ...   Continental crust \n",
              "9553          324010  ...   Continental crust \n",
              "9557          283141  ...   Continental crust \n",
              "\n",
              "[3882 rows x 25 columns]"
            ]
          },
          "metadata": {
            "tags": []
          },
          "execution_count": 118
        }
      ]
    },
    {
      "cell_type": "code",
      "metadata": {
        "colab": {
          "base_uri": "https://localhost:8080/"
        },
        "id": "HfAQsTSvwUsS",
        "outputId": "7d20f83f-1afe-4e49-97de-51d5b1164058"
      },
      "source": [
        "#see number of unique values in each column\n",
        "[(col, confirmed_eruptions[col].nunique()) for col in confirmed_eruptions]"
      ],
      "execution_count": null,
      "outputs": [
        {
          "output_type": "execute_result",
          "data": {
            "text/plain": [
              "[('volcano_number', 657),\n",
              " ('volcano_name', 655),\n",
              " ('eruption_category', 1),\n",
              " ('vei', 8),\n",
              " ('start_year', 1508),\n",
              " ('start_month', 13),\n",
              " ('start_day', 32),\n",
              " ('evidence_method_dating', 20),\n",
              " ('end_year', 438),\n",
              " ('end_month', 13),\n",
              " ('end_day', 32),\n",
              " ('latitude_x', 645),\n",
              " ('longitude_x', 652),\n",
              " ('primary_volcano_type', 23),\n",
              " ('last_eruption_year', 341),\n",
              " ('country', 75),\n",
              " ('region', 19),\n",
              " ('subregion', 95),\n",
              " ('latitude_y', 645),\n",
              " ('longitude_y', 652),\n",
              " ('elevation', 594),\n",
              " ('evidence_category', 4),\n",
              " ('crust_thickness', 3),\n",
              " ('volcanism', 3),\n",
              " ('crust', 4)]"
            ]
          },
          "metadata": {
            "tags": []
          },
          "execution_count": 83
        }
      ]
    },
    {
      "cell_type": "code",
      "metadata": {
        "colab": {
          "base_uri": "https://localhost:8080/"
        },
        "id": "kOwLLBkRuIGl",
        "outputId": "49725575-b4d1-47cf-86b4-3b118ee4f612"
      },
      "source": [
        "confirmed_eruptions['country'].nunique()"
      ],
      "execution_count": null,
      "outputs": [
        {
          "output_type": "execute_result",
          "data": {
            "text/plain": [
              "75"
            ]
          },
          "metadata": {
            "tags": []
          },
          "execution_count": 10
        }
      ]
    },
    {
      "cell_type": "markdown",
      "metadata": {
        "id": "rrr6nbzmxajL"
      },
      "source": [
        "There are 75 countries with confirmed erupted volcanoes."
      ]
    },
    {
      "cell_type": "markdown",
      "metadata": {
        "id": "UPpVlnrzKMvN"
      },
      "source": [
        "#####investigate Missing Values"
      ]
    },
    {
      "cell_type": "markdown",
      "metadata": {
        "id": "vsaLc1mfL_zI"
      },
      "source": [
        "*Crust Thickness*"
      ]
    },
    {
      "cell_type": "code",
      "metadata": {
        "colab": {
          "base_uri": "https://localhost:8080/",
          "height": 309
        },
        "id": "iuRDinkNLmEV",
        "outputId": "47622a5f-62ee-495e-89e1-e16d961ec57c"
      },
      "source": [
        "confirmed_eruptions.head()"
      ],
      "execution_count": null,
      "outputs": [
        {
          "output_type": "execute_result",
          "data": {
            "text/html": [
              "<div>\n",
              "<style scoped>\n",
              "    .dataframe tbody tr th:only-of-type {\n",
              "        vertical-align: middle;\n",
              "    }\n",
              "\n",
              "    .dataframe tbody tr th {\n",
              "        vertical-align: top;\n",
              "    }\n",
              "\n",
              "    .dataframe thead th {\n",
              "        text-align: right;\n",
              "    }\n",
              "</style>\n",
              "<table border=\"1\" class=\"dataframe\">\n",
              "  <thead>\n",
              "    <tr style=\"text-align: right;\">\n",
              "      <th></th>\n",
              "      <th>volcano_number</th>\n",
              "      <th>volcano_name</th>\n",
              "      <th>eruption_category</th>\n",
              "      <th>vei</th>\n",
              "      <th>start_year</th>\n",
              "      <th>start_month</th>\n",
              "      <th>start_day</th>\n",
              "      <th>evidence_method_dating</th>\n",
              "      <th>end_year</th>\n",
              "      <th>end_month</th>\n",
              "      <th>end_day</th>\n",
              "      <th>latitude_x</th>\n",
              "      <th>longitude_x</th>\n",
              "      <th>primary_volcano_type</th>\n",
              "      <th>last_eruption_year</th>\n",
              "      <th>country</th>\n",
              "      <th>region</th>\n",
              "      <th>subregion</th>\n",
              "      <th>latitude_y</th>\n",
              "      <th>longitude_y</th>\n",
              "      <th>elevation</th>\n",
              "      <th>evidence_category</th>\n",
              "      <th>crust_thickness</th>\n",
              "      <th>volcanism</th>\n",
              "      <th>crust</th>\n",
              "    </tr>\n",
              "  </thead>\n",
              "  <tbody>\n",
              "    <tr>\n",
              "      <th>0</th>\n",
              "      <td>266030</td>\n",
              "      <td>Soputan</td>\n",
              "      <td>Confirmed Eruption</td>\n",
              "      <td>NaN</td>\n",
              "      <td>2020.0</td>\n",
              "      <td>3.0</td>\n",
              "      <td>23.0</td>\n",
              "      <td>Historical Observations</td>\n",
              "      <td>2020.0</td>\n",
              "      <td>4.0</td>\n",
              "      <td>2.0</td>\n",
              "      <td>1.112</td>\n",
              "      <td>124.737</td>\n",
              "      <td>Stratovolcano</td>\n",
              "      <td>2020</td>\n",
              "      <td>Indonesia</td>\n",
              "      <td>Indonesia</td>\n",
              "      <td>Sulawesi</td>\n",
              "      <td>1.112</td>\n",
              "      <td>124.737</td>\n",
              "      <td>1785</td>\n",
              "      <td>Eruption Observed</td>\n",
              "      <td>&gt;25 km</td>\n",
              "      <td>Subduction zone</td>\n",
              "      <td>Continental crust</td>\n",
              "    </tr>\n",
              "    <tr>\n",
              "      <th>1</th>\n",
              "      <td>266030</td>\n",
              "      <td>Soputan</td>\n",
              "      <td>Confirmed Eruption</td>\n",
              "      <td>3.0</td>\n",
              "      <td>2018.0</td>\n",
              "      <td>10.0</td>\n",
              "      <td>2.0</td>\n",
              "      <td>Historical Observations</td>\n",
              "      <td>2018.0</td>\n",
              "      <td>12.0</td>\n",
              "      <td>16.0</td>\n",
              "      <td>1.112</td>\n",
              "      <td>124.737</td>\n",
              "      <td>Stratovolcano</td>\n",
              "      <td>2020</td>\n",
              "      <td>Indonesia</td>\n",
              "      <td>Indonesia</td>\n",
              "      <td>Sulawesi</td>\n",
              "      <td>1.112</td>\n",
              "      <td>124.737</td>\n",
              "      <td>1785</td>\n",
              "      <td>Eruption Observed</td>\n",
              "      <td>&gt;25 km</td>\n",
              "      <td>Subduction zone</td>\n",
              "      <td>Continental crust</td>\n",
              "    </tr>\n",
              "    <tr>\n",
              "      <th>2</th>\n",
              "      <td>266030</td>\n",
              "      <td>Soputan</td>\n",
              "      <td>Confirmed Eruption</td>\n",
              "      <td>3.0</td>\n",
              "      <td>2016.0</td>\n",
              "      <td>1.0</td>\n",
              "      <td>2.0</td>\n",
              "      <td>Historical Observations</td>\n",
              "      <td>2016.0</td>\n",
              "      <td>2.0</td>\n",
              "      <td>7.0</td>\n",
              "      <td>1.112</td>\n",
              "      <td>124.737</td>\n",
              "      <td>Stratovolcano</td>\n",
              "      <td>2020</td>\n",
              "      <td>Indonesia</td>\n",
              "      <td>Indonesia</td>\n",
              "      <td>Sulawesi</td>\n",
              "      <td>1.112</td>\n",
              "      <td>124.737</td>\n",
              "      <td>1785</td>\n",
              "      <td>Eruption Observed</td>\n",
              "      <td>&gt;25 km</td>\n",
              "      <td>Subduction zone</td>\n",
              "      <td>Continental crust</td>\n",
              "    </tr>\n",
              "    <tr>\n",
              "      <th>3</th>\n",
              "      <td>266030</td>\n",
              "      <td>Soputan</td>\n",
              "      <td>Confirmed Eruption</td>\n",
              "      <td>3.0</td>\n",
              "      <td>2015.0</td>\n",
              "      <td>1.0</td>\n",
              "      <td>6.0</td>\n",
              "      <td>Historical Observations</td>\n",
              "      <td>2015.0</td>\n",
              "      <td>3.0</td>\n",
              "      <td>7.0</td>\n",
              "      <td>1.112</td>\n",
              "      <td>124.737</td>\n",
              "      <td>Stratovolcano</td>\n",
              "      <td>2020</td>\n",
              "      <td>Indonesia</td>\n",
              "      <td>Indonesia</td>\n",
              "      <td>Sulawesi</td>\n",
              "      <td>1.112</td>\n",
              "      <td>124.737</td>\n",
              "      <td>1785</td>\n",
              "      <td>Eruption Observed</td>\n",
              "      <td>&gt;25 km</td>\n",
              "      <td>Subduction zone</td>\n",
              "      <td>Continental crust</td>\n",
              "    </tr>\n",
              "    <tr>\n",
              "      <th>4</th>\n",
              "      <td>266030</td>\n",
              "      <td>Soputan</td>\n",
              "      <td>Confirmed Eruption</td>\n",
              "      <td>3.0</td>\n",
              "      <td>2012.0</td>\n",
              "      <td>8.0</td>\n",
              "      <td>26.0</td>\n",
              "      <td>Historical Observations</td>\n",
              "      <td>2012.0</td>\n",
              "      <td>9.0</td>\n",
              "      <td>19.0</td>\n",
              "      <td>1.112</td>\n",
              "      <td>124.737</td>\n",
              "      <td>Stratovolcano</td>\n",
              "      <td>2020</td>\n",
              "      <td>Indonesia</td>\n",
              "      <td>Indonesia</td>\n",
              "      <td>Sulawesi</td>\n",
              "      <td>1.112</td>\n",
              "      <td>124.737</td>\n",
              "      <td>1785</td>\n",
              "      <td>Eruption Observed</td>\n",
              "      <td>&gt;25 km</td>\n",
              "      <td>Subduction zone</td>\n",
              "      <td>Continental crust</td>\n",
              "    </tr>\n",
              "  </tbody>\n",
              "</table>\n",
              "</div>"
            ],
            "text/plain": [
              "   volcano_number volcano_name  ...         volcanism                crust\n",
              "0          266030      Soputan  ...  Subduction zone    Continental crust \n",
              "1          266030      Soputan  ...  Subduction zone    Continental crust \n",
              "2          266030      Soputan  ...  Subduction zone    Continental crust \n",
              "3          266030      Soputan  ...  Subduction zone    Continental crust \n",
              "4          266030      Soputan  ...  Subduction zone    Continental crust \n",
              "\n",
              "[5 rows x 25 columns]"
            ]
          },
          "metadata": {
            "tags": []
          },
          "execution_count": 300
        }
      ]
    },
    {
      "cell_type": "code",
      "metadata": {
        "colab": {
          "base_uri": "https://localhost:8080/",
          "height": 847
        },
        "id": "TxUSA7S-Kw7j",
        "outputId": "19d42760-b036-4e58-df04-03082d4281cf"
      },
      "source": [
        "confirmed_eruptions[confirmed_eruptions['crust_thickness'].isnull()]"
      ],
      "execution_count": null,
      "outputs": [
        {
          "output_type": "execute_result",
          "data": {
            "text/html": [
              "<div>\n",
              "<style scoped>\n",
              "    .dataframe tbody tr th:only-of-type {\n",
              "        vertical-align: middle;\n",
              "    }\n",
              "\n",
              "    .dataframe tbody tr th {\n",
              "        vertical-align: top;\n",
              "    }\n",
              "\n",
              "    .dataframe thead th {\n",
              "        text-align: right;\n",
              "    }\n",
              "</style>\n",
              "<table border=\"1\" class=\"dataframe\">\n",
              "  <thead>\n",
              "    <tr style=\"text-align: right;\">\n",
              "      <th></th>\n",
              "      <th>volcano_number</th>\n",
              "      <th>volcano_name</th>\n",
              "      <th>eruption_category</th>\n",
              "      <th>vei</th>\n",
              "      <th>start_year</th>\n",
              "      <th>start_month</th>\n",
              "      <th>start_day</th>\n",
              "      <th>evidence_method_dating</th>\n",
              "      <th>end_year</th>\n",
              "      <th>end_month</th>\n",
              "      <th>end_day</th>\n",
              "      <th>latitude_x</th>\n",
              "      <th>longitude_x</th>\n",
              "      <th>primary_volcano_type</th>\n",
              "      <th>last_eruption_year</th>\n",
              "      <th>country</th>\n",
              "      <th>region</th>\n",
              "      <th>subregion</th>\n",
              "      <th>latitude_y</th>\n",
              "      <th>longitude_y</th>\n",
              "      <th>elevation</th>\n",
              "      <th>evidence_category</th>\n",
              "      <th>crust_thickness</th>\n",
              "      <th>volcanism</th>\n",
              "      <th>crust</th>\n",
              "    </tr>\n",
              "  </thead>\n",
              "  <tbody>\n",
              "    <tr>\n",
              "      <th>1311</th>\n",
              "      <td>256010</td>\n",
              "      <td>Tinakula</td>\n",
              "      <td>Confirmed Eruption</td>\n",
              "      <td>2.0</td>\n",
              "      <td>2018.0</td>\n",
              "      <td>12.0</td>\n",
              "      <td>8.0</td>\n",
              "      <td>Historical Observations</td>\n",
              "      <td>2020.0</td>\n",
              "      <td>4.0</td>\n",
              "      <td>11.0</td>\n",
              "      <td>-10.386</td>\n",
              "      <td>165.804</td>\n",
              "      <td>Stratovolcano</td>\n",
              "      <td>2020</td>\n",
              "      <td>Solomon Islands</td>\n",
              "      <td>Melanesia and Australia</td>\n",
              "      <td>Santa Cruz Islands</td>\n",
              "      <td>-10.386</td>\n",
              "      <td>165.804</td>\n",
              "      <td>796</td>\n",
              "      <td>Eruption Observed</td>\n",
              "      <td>None</td>\n",
              "      <td>Subduction zone</td>\n",
              "      <td>Crustal thickness unknown</td>\n",
              "    </tr>\n",
              "    <tr>\n",
              "      <th>1312</th>\n",
              "      <td>256010</td>\n",
              "      <td>Tinakula</td>\n",
              "      <td>Confirmed Eruption</td>\n",
              "      <td>3.0</td>\n",
              "      <td>2017.0</td>\n",
              "      <td>10.0</td>\n",
              "      <td>21.0</td>\n",
              "      <td>Historical Observations</td>\n",
              "      <td>2017.0</td>\n",
              "      <td>10.0</td>\n",
              "      <td>26.0</td>\n",
              "      <td>-10.386</td>\n",
              "      <td>165.804</td>\n",
              "      <td>Stratovolcano</td>\n",
              "      <td>2020</td>\n",
              "      <td>Solomon Islands</td>\n",
              "      <td>Melanesia and Australia</td>\n",
              "      <td>Santa Cruz Islands</td>\n",
              "      <td>-10.386</td>\n",
              "      <td>165.804</td>\n",
              "      <td>796</td>\n",
              "      <td>Eruption Observed</td>\n",
              "      <td>None</td>\n",
              "      <td>Subduction zone</td>\n",
              "      <td>Crustal thickness unknown</td>\n",
              "    </tr>\n",
              "    <tr>\n",
              "      <th>1313</th>\n",
              "      <td>256010</td>\n",
              "      <td>Tinakula</td>\n",
              "      <td>Confirmed Eruption</td>\n",
              "      <td>1.0</td>\n",
              "      <td>2008.0</td>\n",
              "      <td>9.0</td>\n",
              "      <td>19.0</td>\n",
              "      <td>Historical Observations</td>\n",
              "      <td>2008.0</td>\n",
              "      <td>11.0</td>\n",
              "      <td>29.0</td>\n",
              "      <td>-10.386</td>\n",
              "      <td>165.804</td>\n",
              "      <td>Stratovolcano</td>\n",
              "      <td>2020</td>\n",
              "      <td>Solomon Islands</td>\n",
              "      <td>Melanesia and Australia</td>\n",
              "      <td>Santa Cruz Islands</td>\n",
              "      <td>-10.386</td>\n",
              "      <td>165.804</td>\n",
              "      <td>796</td>\n",
              "      <td>Eruption Observed</td>\n",
              "      <td>None</td>\n",
              "      <td>Subduction zone</td>\n",
              "      <td>Crustal thickness unknown</td>\n",
              "    </tr>\n",
              "    <tr>\n",
              "      <th>1314</th>\n",
              "      <td>256010</td>\n",
              "      <td>Tinakula</td>\n",
              "      <td>Confirmed Eruption</td>\n",
              "      <td>2.0</td>\n",
              "      <td>2006.0</td>\n",
              "      <td>2.0</td>\n",
              "      <td>11.0</td>\n",
              "      <td>Historical Observations</td>\n",
              "      <td>2007.0</td>\n",
              "      <td>11.0</td>\n",
              "      <td>9.0</td>\n",
              "      <td>-10.386</td>\n",
              "      <td>165.804</td>\n",
              "      <td>Stratovolcano</td>\n",
              "      <td>2020</td>\n",
              "      <td>Solomon Islands</td>\n",
              "      <td>Melanesia and Australia</td>\n",
              "      <td>Santa Cruz Islands</td>\n",
              "      <td>-10.386</td>\n",
              "      <td>165.804</td>\n",
              "      <td>796</td>\n",
              "      <td>Eruption Observed</td>\n",
              "      <td>None</td>\n",
              "      <td>Subduction zone</td>\n",
              "      <td>Crustal thickness unknown</td>\n",
              "    </tr>\n",
              "    <tr>\n",
              "      <th>1317</th>\n",
              "      <td>256010</td>\n",
              "      <td>Tinakula</td>\n",
              "      <td>Confirmed Eruption</td>\n",
              "      <td>1.0</td>\n",
              "      <td>2000.0</td>\n",
              "      <td>2.0</td>\n",
              "      <td>29.0</td>\n",
              "      <td>Historical Observations</td>\n",
              "      <td>2001.0</td>\n",
              "      <td>5.0</td>\n",
              "      <td>8.0</td>\n",
              "      <td>-10.386</td>\n",
              "      <td>165.804</td>\n",
              "      <td>Stratovolcano</td>\n",
              "      <td>2020</td>\n",
              "      <td>Solomon Islands</td>\n",
              "      <td>Melanesia and Australia</td>\n",
              "      <td>Santa Cruz Islands</td>\n",
              "      <td>-10.386</td>\n",
              "      <td>165.804</td>\n",
              "      <td>796</td>\n",
              "      <td>Eruption Observed</td>\n",
              "      <td>None</td>\n",
              "      <td>Subduction zone</td>\n",
              "      <td>Crustal thickness unknown</td>\n",
              "    </tr>\n",
              "    <tr>\n",
              "      <th>...</th>\n",
              "      <td>...</td>\n",
              "      <td>...</td>\n",
              "      <td>...</td>\n",
              "      <td>...</td>\n",
              "      <td>...</td>\n",
              "      <td>...</td>\n",
              "      <td>...</td>\n",
              "      <td>...</td>\n",
              "      <td>...</td>\n",
              "      <td>...</td>\n",
              "      <td>...</td>\n",
              "      <td>...</td>\n",
              "      <td>...</td>\n",
              "      <td>...</td>\n",
              "      <td>...</td>\n",
              "      <td>...</td>\n",
              "      <td>...</td>\n",
              "      <td>...</td>\n",
              "      <td>...</td>\n",
              "      <td>...</td>\n",
              "      <td>...</td>\n",
              "      <td>...</td>\n",
              "      <td>...</td>\n",
              "      <td>...</td>\n",
              "      <td>...</td>\n",
              "    </tr>\n",
              "    <tr>\n",
              "      <th>9393</th>\n",
              "      <td>255030</td>\n",
              "      <td>Loloru</td>\n",
              "      <td>Confirmed Eruption</td>\n",
              "      <td>NaN</td>\n",
              "      <td>-2150.0</td>\n",
              "      <td>0.0</td>\n",
              "      <td>0.0</td>\n",
              "      <td>Radiocarbon (uncorrected)</td>\n",
              "      <td>NaN</td>\n",
              "      <td>NaN</td>\n",
              "      <td>NaN</td>\n",
              "      <td>-6.520</td>\n",
              "      <td>155.620</td>\n",
              "      <td>Pyroclastic shield</td>\n",
              "      <td>-1050</td>\n",
              "      <td>Papua New Guinea</td>\n",
              "      <td>Melanesia and Australia</td>\n",
              "      <td>Bougainville and Solomon Islands</td>\n",
              "      <td>-6.520</td>\n",
              "      <td>155.620</td>\n",
              "      <td>1887</td>\n",
              "      <td>Eruption Dated</td>\n",
              "      <td>None</td>\n",
              "      <td>Subduction zone</td>\n",
              "      <td>Crustal thickness unknown</td>\n",
              "    </tr>\n",
              "    <tr>\n",
              "      <th>9394</th>\n",
              "      <td>255030</td>\n",
              "      <td>Loloru</td>\n",
              "      <td>Confirmed Eruption</td>\n",
              "      <td>NaN</td>\n",
              "      <td>-3150.0</td>\n",
              "      <td>0.0</td>\n",
              "      <td>0.0</td>\n",
              "      <td>Radiocarbon (uncorrected)</td>\n",
              "      <td>NaN</td>\n",
              "      <td>NaN</td>\n",
              "      <td>NaN</td>\n",
              "      <td>-6.520</td>\n",
              "      <td>155.620</td>\n",
              "      <td>Pyroclastic shield</td>\n",
              "      <td>-1050</td>\n",
              "      <td>Papua New Guinea</td>\n",
              "      <td>Melanesia and Australia</td>\n",
              "      <td>Bougainville and Solomon Islands</td>\n",
              "      <td>-6.520</td>\n",
              "      <td>155.620</td>\n",
              "      <td>1887</td>\n",
              "      <td>Eruption Dated</td>\n",
              "      <td>None</td>\n",
              "      <td>Subduction zone</td>\n",
              "      <td>Crustal thickness unknown</td>\n",
              "    </tr>\n",
              "    <tr>\n",
              "      <th>9395</th>\n",
              "      <td>255030</td>\n",
              "      <td>Loloru</td>\n",
              "      <td>Confirmed Eruption</td>\n",
              "      <td>NaN</td>\n",
              "      <td>-4150.0</td>\n",
              "      <td>0.0</td>\n",
              "      <td>0.0</td>\n",
              "      <td>Radiocarbon (uncorrected)</td>\n",
              "      <td>NaN</td>\n",
              "      <td>NaN</td>\n",
              "      <td>NaN</td>\n",
              "      <td>-6.520</td>\n",
              "      <td>155.620</td>\n",
              "      <td>Pyroclastic shield</td>\n",
              "      <td>-1050</td>\n",
              "      <td>Papua New Guinea</td>\n",
              "      <td>Melanesia and Australia</td>\n",
              "      <td>Bougainville and Solomon Islands</td>\n",
              "      <td>-6.520</td>\n",
              "      <td>155.620</td>\n",
              "      <td>1887</td>\n",
              "      <td>Eruption Dated</td>\n",
              "      <td>None</td>\n",
              "      <td>Subduction zone</td>\n",
              "      <td>Crustal thickness unknown</td>\n",
              "    </tr>\n",
              "    <tr>\n",
              "      <th>9396</th>\n",
              "      <td>255030</td>\n",
              "      <td>Loloru</td>\n",
              "      <td>Confirmed Eruption</td>\n",
              "      <td>NaN</td>\n",
              "      <td>-6950.0</td>\n",
              "      <td>0.0</td>\n",
              "      <td>0.0</td>\n",
              "      <td>Radiocarbon (uncorrected)</td>\n",
              "      <td>NaN</td>\n",
              "      <td>NaN</td>\n",
              "      <td>NaN</td>\n",
              "      <td>-6.520</td>\n",
              "      <td>155.620</td>\n",
              "      <td>Pyroclastic shield</td>\n",
              "      <td>-1050</td>\n",
              "      <td>Papua New Guinea</td>\n",
              "      <td>Melanesia and Australia</td>\n",
              "      <td>Bougainville and Solomon Islands</td>\n",
              "      <td>-6.520</td>\n",
              "      <td>155.620</td>\n",
              "      <td>1887</td>\n",
              "      <td>Eruption Dated</td>\n",
              "      <td>None</td>\n",
              "      <td>Subduction zone</td>\n",
              "      <td>Crustal thickness unknown</td>\n",
              "    </tr>\n",
              "    <tr>\n",
              "      <th>9547</th>\n",
              "      <td>264080</td>\n",
              "      <td>Inierie</td>\n",
              "      <td>Confirmed Eruption</td>\n",
              "      <td>NaN</td>\n",
              "      <td>-8050.0</td>\n",
              "      <td>0.0</td>\n",
              "      <td>0.0</td>\n",
              "      <td>Radiocarbon (uncorrected)</td>\n",
              "      <td>NaN</td>\n",
              "      <td>NaN</td>\n",
              "      <td>NaN</td>\n",
              "      <td>-8.875</td>\n",
              "      <td>120.950</td>\n",
              "      <td>Stratovolcano</td>\n",
              "      <td>-8050</td>\n",
              "      <td>Indonesia</td>\n",
              "      <td>Indonesia</td>\n",
              "      <td>Lesser Sunda Islands</td>\n",
              "      <td>-8.875</td>\n",
              "      <td>120.950</td>\n",
              "      <td>2245</td>\n",
              "      <td>Eruption Dated</td>\n",
              "      <td>None</td>\n",
              "      <td>Subduction zone</td>\n",
              "      <td>Crustal thickness unknown</td>\n",
              "    </tr>\n",
              "  </tbody>\n",
              "</table>\n",
              "<p>274 rows × 25 columns</p>\n",
              "</div>"
            ],
            "text/plain": [
              "      volcano_number volcano_name  ...         volcanism                       crust\n",
              "1311          256010     Tinakula  ...  Subduction zone    Crustal thickness unknown\n",
              "1312          256010     Tinakula  ...  Subduction zone    Crustal thickness unknown\n",
              "1313          256010     Tinakula  ...  Subduction zone    Crustal thickness unknown\n",
              "1314          256010     Tinakula  ...  Subduction zone    Crustal thickness unknown\n",
              "1317          256010     Tinakula  ...  Subduction zone    Crustal thickness unknown\n",
              "...              ...          ...  ...               ...                         ...\n",
              "9393          255030       Loloru  ...  Subduction zone    Crustal thickness unknown\n",
              "9394          255030       Loloru  ...  Subduction zone    Crustal thickness unknown\n",
              "9395          255030       Loloru  ...  Subduction zone    Crustal thickness unknown\n",
              "9396          255030       Loloru  ...  Subduction zone    Crustal thickness unknown\n",
              "9547          264080      Inierie  ...  Subduction zone    Crustal thickness unknown\n",
              "\n",
              "[274 rows x 25 columns]"
            ]
          },
          "metadata": {
            "tags": []
          },
          "execution_count": 299
        }
      ]
    },
    {
      "cell_type": "markdown",
      "metadata": {
        "id": "O2GKHSCOLxHa"
      },
      "source": [
        "The values were crust thickness is missing were clearly filled as unknown in crust. Leave data as is for this is missing from source."
      ]
    },
    {
      "cell_type": "markdown",
      "metadata": {
        "id": "g_90oVL1MLO3"
      },
      "source": [
        "For end_month, end_year, and end_day, I would also make an assumption of missing at source, and an additional assumption that such volcanoes are still active."
      ]
    },
    {
      "cell_type": "markdown",
      "metadata": {
        "id": "2O4zn8sKMVRC"
      },
      "source": [
        "I would also make an assumption that the missing values for start_month is at source. From the documebtation on Smithsonian, The original source of data, they cited cases of delayed reporting from those who observed the events - the populace living not too far from the volcanoes."
      ]
    },
    {
      "cell_type": "code",
      "metadata": {
        "id": "786ajS2pLd0j"
      },
      "source": [
        "#check general distribution of crust thickness by volcanism"
      ],
      "execution_count": null,
      "outputs": []
    },
    {
      "cell_type": "markdown",
      "metadata": {
        "id": "L1fnxak6EiYy"
      },
      "source": [
        "#####Which month has the highest number of confirmed eruptions?"
      ]
    },
    {
      "cell_type": "markdown",
      "metadata": {
        "id": "0HwR45lrCwQP"
      },
      "source": [
        "Pandas Date Time"
      ]
    },
    {
      "cell_type": "markdown",
      "metadata": {
        "id": "oa7aM4jvVspB"
      },
      "source": [
        "The dates would not be converted to datetime, seeing as the earliest date is >10,000 years ago, according the the source documentation, which is beyond the epoch time limit."
      ]
    },
    {
      "cell_type": "code",
      "metadata": {
        "id": "zIf7X7piYr-x"
      },
      "source": [
        "import datetime as dt\n",
        "datetime = confirmed_eruptions.copy()"
      ],
      "execution_count": null,
      "outputs": []
    },
    {
      "cell_type": "code",
      "metadata": {
        "id": "fWTUodwECx3q"
      },
      "source": [
        "datetime['start_month'] = pd.to_datetime(datetime['start_month'], format='%m', errors='coerce').dt.month_name()"
      ],
      "execution_count": null,
      "outputs": []
    },
    {
      "cell_type": "code",
      "metadata": {
        "colab": {
          "base_uri": "https://localhost:8080/",
          "height": 469
        },
        "id": "vE8BwnHZEXQC",
        "outputId": "22c21ca1-bb22-4e00-ca19-19d0fadcb1bf"
      },
      "source": [
        "fig = plt.figure(figsize=(15, 6)) \n",
        "datetime.groupby('start_month')['volcano_name'].count().sort_values(ascending=False).plot(kind='bar')\n",
        "\n",
        "plt.title('Distribution of Volcanic Eruptions per Country', size=15)\n",
        "plt.ylabel('Count')"
      ],
      "execution_count": null,
      "outputs": [
        {
          "output_type": "execute_result",
          "data": {
            "text/plain": [
              "Text(0, 0.5, 'Count')"
            ]
          },
          "metadata": {
            "tags": []
          },
          "execution_count": 335
        },
        {
          "output_type": "display_data",
          "data": {
            "image/png": "[encoded data removed]",
            "text/plain": [
              "<Figure size 1080x432 with 1 Axes>"
            ]
          },
          "metadata": {
            "tags": [],
            "needs_background": "light"
          }
        }
      ]
    },
    {
      "cell_type": "markdown",
      "metadata": {
        "id": "R7eGPXZRatqy"
      },
      "source": [
        "There is more voclanic activity in July and January than in other months."
      ]
    },
    {
      "cell_type": "markdown",
      "metadata": {
        "id": "DBDQSbhgZpwh"
      },
      "source": [
        "####***Visualisations***"
      ]
    },
    {
      "cell_type": "markdown",
      "metadata": {
        "id": "Q_gQ3yRRb9Gr"
      },
      "source": [
        "#####Distribution of number of volcanic eruptions per country"
      ]
    },
    {
      "cell_type": "code",
      "metadata": {
        "colab": {
          "base_uri": "https://localhost:8080/",
          "height": 420
        },
        "id": "bjPRQkSPbvWi",
        "outputId": "a3f3ee67-0bb1-4ece-b276-1fc15adff6ff"
      },
      "source": [
        "fig = plt.figure(figsize=(10, 4)) \n",
        "\n",
        "data = confirmed_eruptions.groupby('country')['volcano_name'].count()\n",
        "sns.displot(data=data, kde=True)\n",
        "plt.xlabel('No. of Volcanoes')\n",
        "\n",
        "plt.title('Distribution of Volcanic Eruptions per Country', size=15)"
      ],
      "execution_count": null,
      "outputs": [
        {
          "output_type": "execute_result",
          "data": {
            "text/plain": [
              "Text(0.5, 1.0, 'Distribution of Volcanic Eruptions per Country')"
            ]
          },
          "metadata": {
            "tags": []
          },
          "execution_count": 132
        },
        {
          "output_type": "display_data",
          "data": {
            "text/plain": [
              "<Figure size 720x288 with 0 Axes>"
            ]
          },
          "metadata": {
            "tags": []
          }
        },
        {
          "output_type": "display_data",
          "data": {
            "image/png": "[encoded data removed]",
            "text/plain": [
              "<Figure size 360x360 with 1 Axes>"
            ]
          },
          "metadata": {
            "tags": [],
            "needs_background": "light"
          }
        }
      ]
    },
    {
      "cell_type": "markdown",
      "metadata": {
        "id": "fvSg6jGjdVqM"
      },
      "source": [
        "Over 40 countries have had just one confirmed eruption.<br/>\n",
        "Very few countries, when compared to others, have over 800 eruptions"
      ]
    },
    {
      "cell_type": "markdown",
      "metadata": {
        "id": "byBKPkCnPCjv"
      },
      "source": [
        "#####What tectonic zone has produced the most eruptions?"
      ]
    },
    {
      "cell_type": "code",
      "metadata": {
        "colab": {
          "base_uri": "https://localhost:8080/",
          "height": 390
        },
        "id": "glIuf5Px_gsD",
        "outputId": "ccab1c62-6dfd-4768-cce8-4e914330155b"
      },
      "source": [
        "fig = plt.figure(figsize=(6, 4)) \n",
        "\n",
        "chart = sns.countplot(data=confirmed_eruptions, x='volcanism')\n",
        "chart.set_xticklabels(chart.get_xticklabels(), rotation=90)\n",
        "\n",
        "plt.title('Number of Confirmed Eruptions in Tectonic Zones', size=15)"
      ],
      "execution_count": null,
      "outputs": [
        {
          "output_type": "execute_result",
          "data": {
            "text/plain": [
              "Text(0.5, 1.0, 'Number of Confirmed Eruptions in Tectonic Zones')"
            ]
          },
          "metadata": {
            "tags": []
          },
          "execution_count": 105
        },
        {
          "output_type": "display_data",
          "data": {
            "image/png": "[encoded data removed]",
            "text/plain": [
              "<Figure size 432x288 with 1 Axes>"
            ]
          },
          "metadata": {
            "tags": [],
            "needs_background": "light"
          }
        }
      ]
    },
    {
      "cell_type": "markdown",
      "metadata": {
        "id": "GPYtIG-jOfGy"
      },
      "source": [
        "*Hypothesis Confirmed*\n",
        "Subduction zone eruptions are the highest"
      ]
    },
    {
      "cell_type": "markdown",
      "metadata": {
        "id": "-nu5PgVBvJVk"
      },
      "source": [
        "#####Top ten countries with the highest number of confirmed volcanoes that has erupted?"
      ]
    },
    {
      "cell_type": "code",
      "metadata": {
        "colab": {
          "base_uri": "https://localhost:8080/",
          "height": 507
        },
        "id": "ddfm0OWwvxlo",
        "outputId": "c61e935f-bf6a-4622-febc-b0e3a8c9d294"
      },
      "source": [
        "uniques = confirmed_eruptions.drop_duplicates(subset=['volcano_name'], keep='last')\n",
        "\n",
        "#plot\n",
        "fig = plt.figure(figsize=(10, 6)) \n",
        "uniques.groupby('country')['volcano_name'].count().nlargest(10).plot(kind='bar')\n",
        "\n",
        "plt.title('Top Ten Countries with the Highest Number of Confirmed Volcanic Eruptions', size=15)\n",
        "plt.ylabel('Count')"
      ],
      "execution_count": null,
      "outputs": [
        {
          "output_type": "execute_result",
          "data": {
            "text/plain": [
              "Text(0, 0.5, 'Count')"
            ]
          },
          "metadata": {
            "tags": []
          },
          "execution_count": 336
        },
        {
          "output_type": "display_data",
          "data": {
            "image/png": "[encoded data removed]",
            "text/plain": [
              "<Figure size 720x432 with 1 Axes>"
            ]
          },
          "metadata": {
            "tags": [],
            "needs_background": "light"
          }
        }
      ]
    },
    {
      "cell_type": "markdown",
      "metadata": {
        "id": "XDiFBhiUwC-P"
      },
      "source": [
        "The United States has the highest number of confirmed volcano eruptions with Japan following closely after."
      ]
    },
    {
      "cell_type": "markdown",
      "metadata": {
        "id": "qPUX-72HMeZh"
      },
      "source": [
        "#####Top ten countries with highest number of volcanic eruptions"
      ]
    },
    {
      "cell_type": "code",
      "metadata": {
        "colab": {
          "base_uri": "https://localhost:8080/",
          "height": 481
        },
        "id": "DKrk2NmhMjTS",
        "outputId": "f60cc854-9429-4813-b5ec-52e980e383ee"
      },
      "source": [
        "fig = plt.figure(figsize=(10, 6)) \n",
        "confirmed_eruptions.groupby('country')['volcano_name'].count().nlargest(10).plot(kind='bar')\n",
        "\n",
        "plt.title('Top Ten Countries with the Highest Number of Erupting Volcanoes', size=15)\n",
        "plt.ylabel('Count')"
      ],
      "execution_count": null,
      "outputs": [
        {
          "output_type": "execute_result",
          "data": {
            "text/plain": [
              "Text(0, 0.5, 'Count')"
            ]
          },
          "metadata": {
            "tags": []
          },
          "execution_count": 337
        },
        {
          "output_type": "display_data",
          "data": {
            "image/png": "[encoded data removed]",
            "text/plain": [
              "<Figure size 720x432 with 1 Axes>"
            ]
          },
          "metadata": {
            "tags": [],
            "needs_background": "light"
          }
        }
      ]
    },
    {
      "cell_type": "markdown",
      "metadata": {
        "id": "GqxgREbQMo_P"
      },
      "source": [
        "Japan has the highest number of volcanoes erupting."
      ]
    },
    {
      "cell_type": "markdown",
      "metadata": {
        "id": "HOWru8MrLMCn"
      },
      "source": [
        "#####Which subregion has the highest number of confirmed volcanic eruptions?"
      ]
    },
    {
      "cell_type": "code",
      "metadata": {
        "colab": {
          "base_uri": "https://localhost:8080/"
        },
        "id": "hBe0LZk8LKwb",
        "outputId": "1bac3a0e-3caf-43ad-c2e8-64bd00b99a01"
      },
      "source": [
        "confirmed_eruptions.groupby(['subregion', 'country'])['volcano_name'].count().nlargest(1)"
      ],
      "execution_count": null,
      "outputs": [
        {
          "output_type": "execute_result",
          "data": {
            "text/plain": [
              "subregion            country\n",
              "Kamchatka Peninsula  Russia     671\n",
              "Name: volcano_name, dtype: int64"
            ]
          },
          "metadata": {
            "tags": []
          },
          "execution_count": 94
        }
      ]
    },
    {
      "cell_type": "markdown",
      "metadata": {
        "id": "MH6k7_TVLoGX"
      },
      "source": [
        "Kamchatka Peninsula in Russia has experienced 671 volcanic eruptions"
      ]
    },
    {
      "cell_type": "markdown",
      "metadata": {
        "id": "smqtOx-uLuvZ"
      },
      "source": [
        "#####How many volcanoes are in Kamchatka Peninsula?"
      ]
    },
    {
      "cell_type": "code",
      "metadata": {
        "colab": {
          "base_uri": "https://localhost:8080/"
        },
        "id": "LxAnArFgLyE3",
        "outputId": "aa0f1a9a-cd6e-4db1-c25a-d0e3fd2fa6de"
      },
      "source": [
        "len(confirmed_eruptions[confirmed_eruptions['subregion']=='Kamchatka Peninsula'].groupby('volcano_name')['volcano_name'].count())"
      ],
      "execution_count": null,
      "outputs": [
        {
          "output_type": "execute_result",
          "data": {
            "text/plain": [
              "36"
            ]
          },
          "metadata": {
            "tags": []
          },
          "execution_count": 98
        }
      ]
    },
    {
      "cell_type": "markdown",
      "metadata": {
        "id": "3bVHbBXWNUfa"
      },
      "source": [
        "Kamchatka Peninsula has 36 erupted volcanoes"
      ]
    },
    {
      "cell_type": "code",
      "metadata": {
        "id": "ka58Yx8lUv1T"
      },
      "source": [
        ""
      ],
      "execution_count": null,
      "outputs": []
    },
    {
      "cell_type": "markdown",
      "metadata": {
        "id": "E9TBlK-EQ2BS"
      },
      "source": [
        "#####How many confirmed volcanoe eruptions in a year?"
      ]
    },
    {
      "cell_type": "code",
      "metadata": {
        "id": "-hV6Dn-elR2-"
      },
      "source": [
        "count = confirmed_eruptions.groupby('start_year')['volcano_name'].count().to_frame()"
      ],
      "execution_count": null,
      "outputs": []
    },
    {
      "cell_type": "code",
      "metadata": {
        "colab": {
          "base_uri": "https://localhost:8080/",
          "height": 423
        },
        "id": "6Ic7Eek5Ur1i",
        "outputId": "f3fa6c5d-e863-437b-8157-d0a7a14585a7"
      },
      "source": [
        "fig = plt.figure(figsize=(20, 6)) \n",
        "sns.lineplot(data=count, x='start_year', y='volcano_name')\n",
        "\n",
        "plt.title('Erupted Volcanoes (>10,000 BCE to 2020)', size=15)\n",
        "plt.ylabel('Count')"
      ],
      "execution_count": null,
      "outputs": [
        {
          "output_type": "execute_result",
          "data": {
            "text/plain": [
              "Text(0, 0.5, 'Count')"
            ]
          },
          "metadata": {
            "tags": []
          },
          "execution_count": 322
        },
        {
          "output_type": "display_data",
          "data": {
            "image/png": "[encoded data removed]",
            "text/plain": [
              "<Figure size 1440x432 with 1 Axes>"
            ]
          },
          "metadata": {
            "tags": [],
            "needs_background": "light"
          }
        }
      ]
    },
    {
      "cell_type": "code",
      "metadata": {
        "id": "6jJ6mDVwmOly"
      },
      "source": [
        "trimmed = count.loc[1800:2020]"
      ],
      "execution_count": null,
      "outputs": []
    },
    {
      "cell_type": "code",
      "metadata": {
        "colab": {
          "base_uri": "https://localhost:8080/",
          "height": 423
        },
        "id": "xSx9V1Z5m6UG",
        "outputId": "2c6a171c-1489-448b-86c5-e0b3743482fc"
      },
      "source": [
        "fig = plt.figure(figsize=(20, 6)) \n",
        "sns.scatterplot(data=trimmed, x='start_year', y='volcano_name')\n",
        "\n",
        "plt.title('Erupted Volcanoes (1800:2020)', size=15)\n",
        "plt.ylabel('Count')"
      ],
      "execution_count": null,
      "outputs": [
        {
          "output_type": "execute_result",
          "data": {
            "text/plain": [
              "Text(0, 0.5, 'Count')"
            ]
          },
          "metadata": {
            "tags": []
          },
          "execution_count": 334
        },
        {
          "output_type": "display_data",
          "data": {
            "image/png": "[encoded data removed]",
            "text/plain": [
              "<Figure size 1440x432 with 1 Axes>"
            ]
          },
          "metadata": {
            "tags": [],
            "needs_background": "light"
          }
        }
      ]
    },
    {
      "cell_type": "markdown",
      "metadata": {
        "id": "PKUXEgAZJMNC"
      },
      "source": [
        "There has been a general spike (upward trend) in the number of volcanic eruptions per year"
      ]
    },
    {
      "cell_type": "markdown",
      "metadata": {
        "id": "7zofuk0AQQs_"
      },
      "source": [
        "####***More Analysis***"
      ]
    },
    {
      "cell_type": "markdown",
      "metadata": {
        "id": "vIpP9AhU-rES"
      },
      "source": [
        "#####What has been the largest and most explosive volcanic eruptions?"
      ]
    },
    {
      "cell_type": "markdown",
      "metadata": {
        "id": "dZWDoqvI1bWO"
      },
      "source": [
        "Make use of the Volcanic Explosive Index (VEI) numbers"
      ]
    },
    {
      "cell_type": "code",
      "metadata": {
        "id": "dmXClt4Gsev5"
      },
      "source": [
        "#filter and leave only concerned columns\n",
        "dang_cols = ['volcano_name', 'vei', 'country', 'crust_thickness', 'volcanism', 'crust'] \n",
        "dangerous = confirmed_eruptions[dang_cols]"
      ],
      "execution_count": null,
      "outputs": []
    },
    {
      "cell_type": "code",
      "metadata": {
        "colab": {
          "base_uri": "https://localhost:8080/"
        },
        "id": "ygfKLSGQ1s0D",
        "outputId": "583b31b5-761c-47c8-a89f-612ba62a7b2b"
      },
      "source": [
        "#find the highest occuring explosivity index in the dataset\n",
        "dangerous['vei'].max()"
      ],
      "execution_count": null,
      "outputs": [
        {
          "output_type": "execute_result",
          "data": {
            "text/plain": [
              "7.0"
            ]
          },
          "metadata": {
            "tags": []
          },
          "execution_count": 36
        }
      ]
    },
    {
      "cell_type": "markdown",
      "metadata": {
        "id": "UA3W_oDG1ykF"
      },
      "source": [
        "The highest level of volcanic eruption is 7"
      ]
    },
    {
      "cell_type": "code",
      "metadata": {
        "colab": {
          "base_uri": "https://localhost:8080/",
          "height": 297
        },
        "id": "yfZQTWA8yO4T",
        "outputId": "49dab6aa-702a-44e6-c8a5-125a6970484c"
      },
      "source": [
        "#discover volcanoes with vei = 7\n",
        "dangerous[dangerous['vei']==7]"
      ],
      "execution_count": null,
      "outputs": [
        {
          "output_type": "execute_result",
          "data": {
            "text/html": [
              "<div>\n",
              "<style scoped>\n",
              "    .dataframe tbody tr th:only-of-type {\n",
              "        vertical-align: middle;\n",
              "    }\n",
              "\n",
              "    .dataframe tbody tr th {\n",
              "        vertical-align: top;\n",
              "    }\n",
              "\n",
              "    .dataframe thead th {\n",
              "        text-align: right;\n",
              "    }\n",
              "</style>\n",
              "<table border=\"1\" class=\"dataframe\">\n",
              "  <thead>\n",
              "    <tr style=\"text-align: right;\">\n",
              "      <th></th>\n",
              "      <th>volcano_name</th>\n",
              "      <th>vei</th>\n",
              "      <th>country</th>\n",
              "      <th>crust_thickness</th>\n",
              "      <th>volcanism</th>\n",
              "      <th>crust</th>\n",
              "    </tr>\n",
              "  </thead>\n",
              "  <tbody>\n",
              "    <tr>\n",
              "      <th>409</th>\n",
              "      <td>Kikai</td>\n",
              "      <td>7.0</td>\n",
              "      <td>Japan</td>\n",
              "      <td>&lt; 15 km</td>\n",
              "      <td>Subduction zone</td>\n",
              "      <td>Oceanic crust</td>\n",
              "    </tr>\n",
              "    <tr>\n",
              "      <th>2285</th>\n",
              "      <td>Rinjani</td>\n",
              "      <td>7.0</td>\n",
              "      <td>Indonesia</td>\n",
              "      <td>&gt;25 km</td>\n",
              "      <td>Subduction zone</td>\n",
              "      <td>Continental crust</td>\n",
              "    </tr>\n",
              "    <tr>\n",
              "      <th>7160</th>\n",
              "      <td>Tambora</td>\n",
              "      <td>7.0</td>\n",
              "      <td>Indonesia</td>\n",
              "      <td>&gt;25 km</td>\n",
              "      <td>Subduction zone</td>\n",
              "      <td>Continental crust</td>\n",
              "    </tr>\n",
              "    <tr>\n",
              "      <th>7425</th>\n",
              "      <td>Santorini</td>\n",
              "      <td>7.0</td>\n",
              "      <td>Greece</td>\n",
              "      <td>&gt;25 km</td>\n",
              "      <td>Subduction zone</td>\n",
              "      <td>Continental crust</td>\n",
              "    </tr>\n",
              "    <tr>\n",
              "      <th>8044</th>\n",
              "      <td>Changbaishan</td>\n",
              "      <td>7.0</td>\n",
              "      <td>China-North Korea</td>\n",
              "      <td>&gt;25 km</td>\n",
              "      <td>Intraplate</td>\n",
              "      <td>Continental crust</td>\n",
              "    </tr>\n",
              "    <tr>\n",
              "      <th>9430</th>\n",
              "      <td>Blanco, Cerro</td>\n",
              "      <td>7.0</td>\n",
              "      <td>Argentina</td>\n",
              "      <td>&gt;25 km</td>\n",
              "      <td>Subduction zone</td>\n",
              "      <td>Continental crust</td>\n",
              "    </tr>\n",
              "    <tr>\n",
              "      <th>9442</th>\n",
              "      <td>Crater Lake</td>\n",
              "      <td>7.0</td>\n",
              "      <td>United States</td>\n",
              "      <td>&gt;25 km</td>\n",
              "      <td>Subduction zone</td>\n",
              "      <td>Continental crust</td>\n",
              "    </tr>\n",
              "    <tr>\n",
              "      <th>9536</th>\n",
              "      <td>Kurile Lake</td>\n",
              "      <td>7.0</td>\n",
              "      <td>Russia</td>\n",
              "      <td>&gt;25 km</td>\n",
              "      <td>Subduction zone</td>\n",
              "      <td>Continental crust</td>\n",
              "    </tr>\n",
              "  </tbody>\n",
              "</table>\n",
              "</div>"
            ],
            "text/plain": [
              "       volcano_name  vei  ...         volcanism                crust\n",
              "409           Kikai  7.0  ...  Subduction zone        Oceanic crust \n",
              "2285        Rinjani  7.0  ...  Subduction zone    Continental crust \n",
              "7160        Tambora  7.0  ...  Subduction zone    Continental crust \n",
              "7425      Santorini  7.0  ...  Subduction zone    Continental crust \n",
              "8044   Changbaishan  7.0  ...       Intraplate    Continental crust \n",
              "9430  Blanco, Cerro  7.0  ...  Subduction zone    Continental crust \n",
              "9442    Crater Lake  7.0  ...  Subduction zone    Continental crust \n",
              "9536    Kurile Lake  7.0  ...  Subduction zone    Continental crust \n",
              "\n",
              "[8 rows x 6 columns]"
            ]
          },
          "metadata": {
            "tags": []
          },
          "execution_count": 37
        }
      ]
    },
    {
      "cell_type": "markdown",
      "metadata": {
        "id": "3dEasiVp8ySM"
      },
      "source": [
        "*Hypothesis Confirmed* <br/>\n",
        "The assumption that the most volcanic eruptions occur at the subduction zone is confirmed. As seen in the image above, intreplate is also within the subduction zone when it is on the continental crust."
      ]
    },
    {
      "cell_type": "markdown",
      "metadata": {
        "id": "zIlmWegY2xxU"
      },
      "source": [
        "According to the reference index by Chris Newhall and Stephen Self, the above volcanoes were so dangerous, and released materials up to the tone of >100km in volume and >40km of plume (mixtures of volcanic particles, gases, and entrained air), and are considered super-colossal.<br/>\n",
        "\n",
        "Japan is the only country where this happened in the Oceanic Crust"
      ]
    },
    {
      "cell_type": "markdown",
      "metadata": {
        "id": "w_gBQdYenyAO"
      },
      "source": [
        "##Bonus"
      ]
    },
    {
      "cell_type": "markdown",
      "metadata": {
        "id": "X7P5ZEb2WJv1"
      },
      "source": [
        "Investigate the correlation of increased volcanic activities to global temperature change"
      ]
    },
    {
      "cell_type": "code",
      "metadata": {
        "id": "V_4dxyvJpQj-"
      },
      "source": [
        "#import NASA global temperature change data\n",
        "global_temps = pd.read_table('https://data.giss.nasa.gov/gistemp/graphs/graph_data/Global_Mean_Estimates_based_on_Land_and_Ocean_Data/graph.txt', header=2, delim_whitespace=' ')"
      ],
      "execution_count": null,
      "outputs": []
    },
    {
      "cell_type": "code",
      "metadata": {
        "colab": {
          "base_uri": "https://localhost:8080/",
          "height": 142
        },
        "id": "4fxVjv6NXNk-",
        "outputId": "add72b8d-81f6-45f4-e80f-7d187aac26a2"
      },
      "source": [
        "global_temps.head(3)"
      ],
      "execution_count": null,
      "outputs": [
        {
          "output_type": "execute_result",
          "data": {
            "text/html": [
              "<div>\n",
              "<style scoped>\n",
              "    .dataframe tbody tr th:only-of-type {\n",
              "        vertical-align: middle;\n",
              "    }\n",
              "\n",
              "    .dataframe tbody tr th {\n",
              "        vertical-align: top;\n",
              "    }\n",
              "\n",
              "    .dataframe thead th {\n",
              "        text-align: right;\n",
              "    }\n",
              "</style>\n",
              "<table border=\"1\" class=\"dataframe\">\n",
              "  <thead>\n",
              "    <tr style=\"text-align: right;\">\n",
              "      <th></th>\n",
              "      <th>Year</th>\n",
              "      <th>No_Smoothing</th>\n",
              "      <th>Lowess(5)</th>\n",
              "    </tr>\n",
              "  </thead>\n",
              "  <tbody>\n",
              "    <tr>\n",
              "      <th>0</th>\n",
              "      <td>----------------------------</td>\n",
              "      <td>NaN</td>\n",
              "      <td>NaN</td>\n",
              "    </tr>\n",
              "    <tr>\n",
              "      <th>1</th>\n",
              "      <td>1880</td>\n",
              "      <td>-0.16</td>\n",
              "      <td>-0.08</td>\n",
              "    </tr>\n",
              "    <tr>\n",
              "      <th>2</th>\n",
              "      <td>1881</td>\n",
              "      <td>-0.07</td>\n",
              "      <td>-0.12</td>\n",
              "    </tr>\n",
              "  </tbody>\n",
              "</table>\n",
              "</div>"
            ],
            "text/plain": [
              "                           Year  No_Smoothing  Lowess(5)\n",
              "0  ----------------------------           NaN        NaN\n",
              "1                          1880         -0.16      -0.08\n",
              "2                          1881         -0.07      -0.12"
            ]
          },
          "metadata": {
            "tags": []
          },
          "execution_count": 313
        }
      ]
    },
    {
      "cell_type": "code",
      "metadata": {
        "id": "e0ynKGOE9ibX"
      },
      "source": [
        "global_temps.drop([0], inplace=True) #drop the first column"
      ],
      "execution_count": null,
      "outputs": []
    },
    {
      "cell_type": "code",
      "metadata": {
        "colab": {
          "base_uri": "https://localhost:8080/",
          "height": 423
        },
        "id": "iVg0Z1CnBnz8",
        "outputId": "b949f41f-42a5-45b4-a499-9ee69075aab3"
      },
      "source": [
        "fig = plt.figure(figsize=(20, 6)) \n",
        "sns.lineplot(data=global_temps, x='Year', y='No_Smoothing')\n",
        "\n",
        "plt.title('Global Temperature Change (1880:2020)', size=15)\n",
        "plt.ylabel('Temperature Change')"
      ],
      "execution_count": null,
      "outputs": [
        {
          "output_type": "execute_result",
          "data": {
            "text/plain": [
              "Text(0, 0.5, 'Temperature Change')"
            ]
          },
          "metadata": {
            "tags": []
          },
          "execution_count": 327
        },
        {
          "output_type": "display_data",
          "data": {
            "image/png": "[encoded data removed]",
            "text/plain": [
              "<Figure size 1440x432 with 1 Axes>"
            ]
          },
          "metadata": {
            "tags": [],
            "needs_background": "light"
          }
        }
      ]
    },
    {
      "cell_type": "markdown",
      "metadata": {
        "id": "gFvPoBxzYVK2"
      },
      "source": [
        "Plot together"
      ]
    },
    {
      "cell_type": "code",
      "metadata": {
        "id": "h85eqfPPWi34"
      },
      "source": [
        "#merge data\n",
        "global_temps['Year'] = global_temps['Year'].astype('float64') #convert year to float\n",
        "\n",
        "filter = count.loc[1880:2020]\n",
        "temp_comparison = filter.merge(global_temps, left_on=filter.index, right_on='Year', how='left')"
      ],
      "execution_count": null,
      "outputs": []
    },
    {
      "cell_type": "code",
      "metadata": {
        "colab": {
          "base_uri": "https://localhost:8080/",
          "height": 423
        },
        "id": "l_7LLe6pBvtJ",
        "outputId": "f205885e-3378-494c-efd0-7487205a3f66"
      },
      "source": [
        "fig = plt.figure(figsize=(20, 6)) \n",
        "sns.lineplot(data=temp_comparison, x='Year', y='volcano_name')\n",
        "sns.lineplot(data=temp_comparison, x='Year', y='No_Smoothing')\n",
        "plt.title('Global Temperature Change Vis Number of Volcanic Eruptions', size=15)\n",
        "plt.ylabel('Count')"
      ],
      "execution_count": null,
      "outputs": [
        {
          "output_type": "execute_result",
          "data": {
            "text/plain": [
              "Text(0, 0.5, 'Count')"
            ]
          },
          "metadata": {
            "tags": []
          },
          "execution_count": 133
        },
        {
          "output_type": "display_data",
          "data": {
            "image/png": "[encoded data removed]",
            "text/plain": [
              "<Figure size 1440x432 with 1 Axes>"
            ]
          },
          "metadata": {
            "tags": [],
            "needs_background": "light"
          }
        }
      ]
    },
    {
      "cell_type": "code",
      "metadata": {
        "colab": {
          "base_uri": "https://localhost:8080/",
          "height": 423
        },
        "id": "NSlFtRYkT3-m",
        "outputId": "e0262d3b-e601-49cd-e0a9-e11dff7287aa"
      },
      "source": [
        "fig = plt.figure(figsize=(20, 6)) \n",
        "sns.regplot(data=temp_comparison, x='No_Smoothing', y='volcano_name')\n",
        "plt.title('Global Temperature Change Versus Number of Volcanic Eruptions', size=15)\n",
        "plt.xlabel('Global Temperature change (%)')\n",
        "plt.ylabel('number of confirmed volcanic eruptions')"
      ],
      "execution_count": null,
      "outputs": [
        {
          "output_type": "execute_result",
          "data": {
            "text/plain": [
              "Text(0, 0.5, 'number of confirmed volcanic eruptions')"
            ]
          },
          "metadata": {
            "tags": []
          },
          "execution_count": 134
        },
        {
          "output_type": "display_data",
          "data": {
            "image/png": "[encoded data removed]",
            "text/plain": [
              "<Figure size 1440x432 with 1 Axes>"
            ]
          },
          "metadata": {
            "tags": [],
            "needs_background": "light"
          }
        }
      ]
    },
    {
      "cell_type": "markdown",
      "metadata": {
        "id": "rPX55HcMZYgL"
      },
      "source": [
        "The above plot clearly shows that there is very little correlation between the volcanic eruptions and temperature rise."
      ]
    },
    {
      "cell_type": "markdown",
      "metadata": {
        "id": "owsBDeGTYh5c"
      },
      "source": [
        "#### Active Volcanic activity"
      ]
    },
    {
      "cell_type": "code",
      "metadata": {
        "id": "Qny9wzt1Ycqj"
      },
      "source": [
        "active = confirmed_eruptions[confirmed_eruptions['end_year'].isnull()]"
      ],
      "execution_count": null,
      "outputs": []
    },
    {
      "cell_type": "code",
      "metadata": {
        "id": "GhMmdgZ_Y3EO"
      },
      "source": [
        "active_cnt = active.groupby('start_year')['volcano_name'].count().to_frame()"
      ],
      "execution_count": null,
      "outputs": []
    },
    {
      "cell_type": "code",
      "metadata": {
        "colab": {
          "base_uri": "https://localhost:8080/",
          "height": 423
        },
        "id": "1SHP4g6lY9IM",
        "outputId": "d2201851-6a3f-4a16-e371-e58ab05bd50c"
      },
      "source": [
        "fig = plt.figure(figsize=(20, 6)) \n",
        "sns.lineplot(data=active_cnt[1880:2020], x='start_year', y='volcano_name')\n",
        "\n",
        "plt.title('Presently Active Volcanoes', size=15)\n",
        "plt.ylabel('Count')"
      ],
      "execution_count": null,
      "outputs": [
        {
          "output_type": "execute_result",
          "data": {
            "text/plain": [
              "Text(0, 0.5, 'Count')"
            ]
          },
          "metadata": {
            "tags": []
          },
          "execution_count": 138
        },
        {
          "output_type": "display_data",
          "data": {
            "image/png": "[encoded data removed]",
            "text/plain": [
              "<Figure size 1440x432 with 1 Axes>"
            ]
          },
          "metadata": {
            "tags": [],
            "needs_background": "light"
          }
        }
      ]
    },
    {
      "cell_type": "markdown",
      "metadata": {
        "id": "Fbtgt4DLZTqc"
      },
      "source": [
        "The number of voclanoes still active till date has reduced."
      ]
    },
    {
      "cell_type": "markdown",
      "metadata": {
        "id": "e9V-cjwoDzU1"
      },
      "source": [
        "###Summary"
      ]
    },
    {
      "cell_type": "markdown",
      "metadata": {
        "id": "j3QOIpdUZ95b"
      },
      "source": [
        "**Conclusions**\n",
        "\n",
        "1. There was a lot of volcanic activity, but only few were confirmed eruptions. \n",
        "2. The Subduction zone produces the highest volcanic activity and the highest number of confirmed erupted volcanoes.\n",
        "3. The number of confirmed erupted volcanoes is in an upward trend.\n",
        "4. There is more voclanic activity in July and January than in other months.\n",
        "5. The United States has the highest number of volcanic eruptions however, Japan has more volcanoes producing eruptions than the United States.\n",
        "6. The largest subregion with erupting volcanoes is Kamchatka Peninsula in Russia. \n",
        "7. The number of active volcanoes is lower today, than it was over 100 years ago.\n",
        "8. There is very little correlation between the volcanic eruptions and temperature rise\n",
        "\n"
      ]
    },
    {
      "cell_type": "markdown",
      "metadata": {
        "id": "RUD1RGzW6hkx"
      },
      "source": [
        "**References:**\n",
        "1. https://volcano.si.edu/faq/index.cfm?question=highestvolcano\n",
        "2. http://ete.cet.edu/gcc/?/volcanoes_explosivity/\n",
        "3. https://volcanoes.usgs.gov/vsc/glossary/vei.html#:~:text=Volcanic%20Explosivity%20Index%20(VEI)%20is,to%20determine%20the%20explosivity%20value.\n",
        "4. https://www.britannica.com/science/volcano/Volcanoes-related-to-plate-boundaries"
      ]
    }
  ]
}